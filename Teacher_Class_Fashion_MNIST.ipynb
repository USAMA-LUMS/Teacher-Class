{
  "nbformat": 4,
  "nbformat_minor": 0,
  "metadata": {
    "colab": {
      "name": "Teacher-Class Fashion MNIST.ipynb",
      "provenance": [],
      "collapsed_sections": [],
      "toc_visible": true
    },
    "kernelspec": {
      "name": "python3",
      "display_name": "Python 3"
    },
    "accelerator": "GPU"
  },
  "cells": [
    {
      "cell_type": "code",
      "metadata": {
        "id": "d3IoPGgwt6rz",
        "colab_type": "code",
        "outputId": "eca2f5d1-8a54-41a3-dd28-4414eb42e8fe",
        "colab": {
          "base_uri": "https://localhost:8080/",
          "height": 34
        }
      },
      "source": [
        "#imports\n",
        "import keras\n",
        "from keras.datasets import fashion_mnist,mnist,cifar10\n",
        "from keras.layers import Activation, Input, Embedding, LSTM, Dense, Lambda, GaussianNoise, concatenate\n",
        "from keras.models import Model\n",
        "import numpy as np\n",
        "from keras.utils import np_utils\n",
        "from keras.layers.core import Dense, Dropout, Activation\n",
        "from keras import backend as K\n",
        "from keras.models import Sequential\n",
        "from keras.layers import Dense\n",
        "from sklearn.model_selection import train_test_split\n",
        "from keras.optimizers import SGD, Adam, RMSprop\n",
        "from keras.constraints import max_norm\n",
        "from keras.layers import MaxPooling2D, Dropout, Dense, Flatten, Activation, Conv2D\n",
        "from keras.models import Sequential\n",
        "from keras.losses import categorical_crossentropy as logloss\n",
        "from keras.metrics import categorical_accuracy\n",
        "import matplotlib.pyplot as plt\n",
        "from sklearn.metrics import mean_squared_error\n",
        "from matplotlib import offsetbox"
      ],
      "execution_count": 1,
      "outputs": [
        {
          "output_type": "stream",
          "text": [
            "Using TensorFlow backend.\n"
          ],
          "name": "stderr"
        }
      ]
    },
    {
      "cell_type": "code",
      "metadata": {
        "id": "bc6js2SIuJGg",
        "colab_type": "code",
        "outputId": "a90b4c9e-0d9e-4558-8fde-f65c83c5f304",
        "colab": {
          "base_uri": "https://localhost:8080/",
          "height": 158
        }
      },
      "source": [
        "#Loading and splitting the dataset into train, validation and test\n",
        "nb_classes = 10\n",
        "\n",
        "(X_Train, y_Train), (X_test, y_test) = fashion_mnist.load_data()\n",
        "X_train, X_val, y_train, y_val = train_test_split(X_Train, y_Train, test_size=0.20)\n",
        "# convert y_train and y_test to categorical binary values \n",
        "Y_train = np_utils.to_categorical(y_train, nb_classes)\n",
        "Y_val = np_utils.to_categorical(y_val, nb_classes)"
      ],
      "execution_count": 2,
      "outputs": [
        {
          "output_type": "stream",
          "text": [
            "Downloading data from http://fashion-mnist.s3-website.eu-central-1.amazonaws.com/train-labels-idx1-ubyte.gz\n",
            "32768/29515 [=================================] - 0s 9us/step\n",
            "Downloading data from http://fashion-mnist.s3-website.eu-central-1.amazonaws.com/train-images-idx3-ubyte.gz\n",
            "26427392/26421880 [==============================] - 5s 0us/step\n",
            "Downloading data from http://fashion-mnist.s3-website.eu-central-1.amazonaws.com/t10k-labels-idx1-ubyte.gz\n",
            "8192/5148 [===============================================] - 0s 0us/step\n",
            "Downloading data from http://fashion-mnist.s3-website.eu-central-1.amazonaws.com/t10k-images-idx3-ubyte.gz\n",
            "4423680/4422102 [==============================] - 2s 1us/step\n"
          ],
          "name": "stdout"
        }
      ]
    },
    {
      "cell_type": "code",
      "metadata": {
        "id": "k-VfVidfuJjn",
        "colab_type": "code",
        "colab": {}
      },
      "source": [
        "# Reshape them to batch_size, width,height,#channels\n",
        "X_train = X_train.reshape(48000, 28, 28, 1)\n",
        "X_val = X_val.reshape(12000, 28, 28, 1)\n",
        "\n",
        "X_train = X_train.astype('float32')\n",
        "X_val = X_val.astype('float32')\n",
        "\n",
        "# Normalize the values\n",
        "X_train /= 255\n",
        "X_val /= 255"
      ],
      "execution_count": 0,
      "outputs": []
    },
    {
      "cell_type": "code",
      "metadata": {
        "id": "GVDPoyYwuJ8b",
        "colab_type": "code",
        "outputId": "ed1d6495-6a18-4cd9-f00a-b87cba098242",
        "colab": {
          "base_uri": "https://localhost:8080/",
          "height": 496
        }
      },
      "source": [
        "#Creating a teacher network\n",
        "input_shape = (28, 28, 1) # Input shape of each image\n",
        "\n",
        "# Hyperparameters\n",
        "nb_filters = 64 # number of convolutional filters to use\n",
        "pool_size = (2, 2) # size of pooling area for max pooling\n",
        "kernel_size = (3, 3) # convolution kernel size\n",
        "\n",
        "teacher = Sequential()\n",
        "teacher.add(Conv2D(32, kernel_size=(3, 3),\n",
        "                 activation='relu',\n",
        "                 input_shape=input_shape))\n",
        "teacher.add(Conv2D(64, (3, 3), activation='relu'))\n",
        "teacher.add(MaxPooling2D(pool_size=(2, 2)))\n",
        "\n",
        "teacher.add(Dropout(0.25)) # For reguralization\n",
        "\n",
        "teacher.add(Flatten())\n",
        "teacher.add(Dense(256, activation='relu'))\n",
        "teacher.add(Dropout(0.5)) # For reguralization\n",
        "\n",
        "teacher.add(Dense(nb_classes))\n",
        "teacher.add(Activation('softmax')) # Note that we add a normal softmax layer to begin with\n",
        "\n",
        "teacher.compile(loss='categorical_crossentropy',\n",
        "              optimizer='adadelta',\n",
        "              metrics=['accuracy'])\n",
        "\n",
        "print(teacher.summary())"
      ],
      "execution_count": 4,
      "outputs": [
        {
          "output_type": "stream",
          "text": [
            "Model: \"sequential_1\"\n",
            "_________________________________________________________________\n",
            "Layer (type)                 Output Shape              Param #   \n",
            "=================================================================\n",
            "conv2d_1 (Conv2D)            (None, 26, 26, 32)        320       \n",
            "_________________________________________________________________\n",
            "conv2d_2 (Conv2D)            (None, 24, 24, 64)        18496     \n",
            "_________________________________________________________________\n",
            "max_pooling2d_1 (MaxPooling2 (None, 12, 12, 64)        0         \n",
            "_________________________________________________________________\n",
            "dropout_1 (Dropout)          (None, 12, 12, 64)        0         \n",
            "_________________________________________________________________\n",
            "flatten_1 (Flatten)          (None, 9216)              0         \n",
            "_________________________________________________________________\n",
            "dense_1 (Dense)              (None, 256)               2359552   \n",
            "_________________________________________________________________\n",
            "dropout_2 (Dropout)          (None, 256)               0         \n",
            "_________________________________________________________________\n",
            "dense_2 (Dense)              (None, 10)                2570      \n",
            "_________________________________________________________________\n",
            "activation_1 (Activation)    (None, 10)                0         \n",
            "=================================================================\n",
            "Total params: 2,380,938\n",
            "Trainable params: 2,380,938\n",
            "Non-trainable params: 0\n",
            "_________________________________________________________________\n",
            "None\n"
          ],
          "name": "stdout"
        }
      ]
    },
    {
      "cell_type": "code",
      "metadata": {
        "id": "I8exalVcuKTh",
        "colab_type": "code",
        "outputId": "6bac50a7-97b4-4180-ce3f-715c4df61ebb",
        "colab": {
          "base_uri": "https://localhost:8080/",
          "height": 605
        }
      },
      "source": [
        "# Train the teacher model as usual\n",
        "epochs = 15\n",
        "batch_size = 256\n",
        "teacher.fit(X_train, Y_train,\n",
        "          batch_size=batch_size,\n",
        "          epochs=epochs,\n",
        "          verbose=1,\n",
        "          validation_data=(X_val, Y_val))"
      ],
      "execution_count": 5,
      "outputs": [
        {
          "output_type": "stream",
          "text": [
            "Train on 48000 samples, validate on 12000 samples\n",
            "Epoch 1/15\n",
            "48000/48000 [==============================] - 11s 221us/step - loss: 0.6740 - accuracy: 0.7615 - val_loss: 0.4215 - val_accuracy: 0.8428\n",
            "Epoch 2/15\n",
            "48000/48000 [==============================] - 4s 85us/step - loss: 0.4008 - accuracy: 0.8579 - val_loss: 0.4156 - val_accuracy: 0.8451\n",
            "Epoch 3/15\n",
            "48000/48000 [==============================] - 4s 85us/step - loss: 0.3454 - accuracy: 0.8746 - val_loss: 0.2982 - val_accuracy: 0.8902\n",
            "Epoch 4/15\n",
            "48000/48000 [==============================] - 4s 85us/step - loss: 0.3099 - accuracy: 0.8873 - val_loss: 0.2955 - val_accuracy: 0.8917\n",
            "Epoch 5/15\n",
            "48000/48000 [==============================] - 4s 85us/step - loss: 0.2866 - accuracy: 0.8954 - val_loss: 0.2672 - val_accuracy: 0.9004\n",
            "Epoch 6/15\n",
            "48000/48000 [==============================] - 4s 85us/step - loss: 0.2659 - accuracy: 0.9029 - val_loss: 0.2847 - val_accuracy: 0.8950\n",
            "Epoch 7/15\n",
            "48000/48000 [==============================] - 4s 85us/step - loss: 0.2487 - accuracy: 0.9092 - val_loss: 0.2456 - val_accuracy: 0.9123\n",
            "Epoch 8/15\n",
            "48000/48000 [==============================] - 4s 85us/step - loss: 0.2314 - accuracy: 0.9143 - val_loss: 0.2567 - val_accuracy: 0.9077\n",
            "Epoch 9/15\n",
            "48000/48000 [==============================] - 4s 85us/step - loss: 0.2177 - accuracy: 0.9197 - val_loss: 0.2405 - val_accuracy: 0.9119\n",
            "Epoch 10/15\n",
            "48000/48000 [==============================] - 4s 85us/step - loss: 0.2028 - accuracy: 0.9256 - val_loss: 0.2220 - val_accuracy: 0.9204\n",
            "Epoch 11/15\n",
            "48000/48000 [==============================] - 4s 84us/step - loss: 0.1934 - accuracy: 0.9284 - val_loss: 0.2173 - val_accuracy: 0.9203\n",
            "Epoch 12/15\n",
            "48000/48000 [==============================] - 4s 84us/step - loss: 0.1798 - accuracy: 0.9338 - val_loss: 0.2342 - val_accuracy: 0.9158\n",
            "Epoch 13/15\n",
            "48000/48000 [==============================] - 4s 84us/step - loss: 0.1718 - accuracy: 0.9358 - val_loss: 0.2321 - val_accuracy: 0.9212\n",
            "Epoch 14/15\n",
            "48000/48000 [==============================] - 4s 85us/step - loss: 0.1616 - accuracy: 0.9404 - val_loss: 0.2292 - val_accuracy: 0.9168\n",
            "Epoch 15/15\n",
            "48000/48000 [==============================] - 4s 85us/step - loss: 0.1527 - accuracy: 0.9442 - val_loss: 0.2157 - val_accuracy: 0.9221\n"
          ],
          "name": "stdout"
        },
        {
          "output_type": "execute_result",
          "data": {
            "text/plain": [
              "<keras.callbacks.callbacks.History at 0x7f3be4496ba8>"
            ]
          },
          "metadata": {
            "tags": []
          },
          "execution_count": 5
        }
      ]
    },
    {
      "cell_type": "code",
      "metadata": {
        "id": "jDgbAf6nuKvd",
        "colab_type": "code",
        "outputId": "04c8c48c-7159-4053-f1bc-78e6a2dd27a5",
        "colab": {
          "base_uri": "https://localhost:8080/",
          "height": 70
        }
      },
      "source": [
        "#checking teachers test accuracy\n",
        "X_test = X_test.reshape(10000, 28, 28, 1)\n",
        "\n",
        "X_test = X_test.astype('float32')\n",
        "# Normalize the values\n",
        "X_test /= 255\n",
        "preds=teacher.predict(X_test)\n",
        "\n",
        "numbers=[0,1,2,3,4,5,6,7,8,9]\n",
        "preds2=[]\n",
        "for p in preds:\n",
        "  preds2.append(numbers[np.argmax(p)])\n",
        "preds2=np.array(preds2)\n",
        "\n",
        "print (y_test)\n",
        "print (preds2)\n",
        "print (np.sum(y_test==preds2))"
      ],
      "execution_count": 6,
      "outputs": [
        {
          "output_type": "stream",
          "text": [
            "[9 2 1 ... 8 1 5]\n",
            "[9 2 1 ... 8 1 5]\n",
            "9195\n"
          ],
          "name": "stdout"
        }
      ]
    },
    {
      "cell_type": "code",
      "metadata": {
        "id": "iD32QuELuLKz",
        "colab_type": "code",
        "colab": {}
      },
      "source": [
        "#Collect the dense vector from the previous layer output and store it in a different model\n",
        "teacher_WO_Softmax = Model(teacher.input, teacher.get_layer('dense_1').output)"
      ],
      "execution_count": 0,
      "outputs": []
    },
    {
      "cell_type": "code",
      "metadata": {
        "id": "5UVoR8uFuLgp",
        "colab_type": "code",
        "colab": {}
      },
      "source": [
        "#Extracting dense representation from the teacher network\n",
        "train_dense = teacher_WO_Softmax.predict(X_train)\n",
        "test_dense = teacher_WO_Softmax.predict(X_val)"
      ],
      "execution_count": 0,
      "outputs": []
    },
    {
      "cell_type": "code",
      "metadata": {
        "id": "iHa4vVVuuMJ_",
        "colab_type": "code",
        "outputId": "281961b6-5ed4-4f5c-8f9a-f64ad64c1643",
        "colab": {
          "base_uri": "https://localhost:8080/",
          "height": 87
        }
      },
      "source": [
        "#Splitting the training dense vector among N students(in this case 4)\n",
        "s1Train=train_dense[:,:64]\n",
        "s2Train=train_dense[:,64:128]\n",
        "s3Train=train_dense[:,128:192]\n",
        "s4Train=train_dense[:,192:]\n",
        "print (s1Train.shape)\n",
        "print (s2Train.shape)\n",
        "print (s3Train.shape)\n",
        "print (s4Train.shape)"
      ],
      "execution_count": 9,
      "outputs": [
        {
          "output_type": "stream",
          "text": [
            "(48000, 64)\n",
            "(48000, 64)\n",
            "(48000, 64)\n",
            "(48000, 64)\n"
          ],
          "name": "stdout"
        }
      ]
    },
    {
      "cell_type": "code",
      "metadata": {
        "id": "Ul5qsXu0wkLy",
        "colab_type": "code",
        "outputId": "c8eb1b59-470f-42a2-b65e-139cc4e1ce9c",
        "colab": {
          "base_uri": "https://localhost:8080/",
          "height": 87
        }
      },
      "source": [
        "#Splitting the test dense vector among N students(in this case 4)\n",
        "s1Test=test_dense[:,:64]\n",
        "s2Test=test_dense[:,64:128]\n",
        "s3Test=test_dense[:,128:192]\n",
        "s4Test=test_dense[:,192:]\n",
        "print (s1Test.shape)\n",
        "print (s2Test.shape)\n",
        "print (s3Test.shape)\n",
        "print (s4Test.shape)"
      ],
      "execution_count": 10,
      "outputs": [
        {
          "output_type": "stream",
          "text": [
            "(12000, 64)\n",
            "(12000, 64)\n",
            "(12000, 64)\n",
            "(12000, 64)\n"
          ],
          "name": "stdout"
        }
      ]
    },
    {
      "cell_type": "code",
      "metadata": {
        "id": "1W3VGSekwkkV",
        "colab_type": "code",
        "outputId": "8de45ad7-3887-495c-bdd4-dc94df5f1400",
        "colab": {
          "base_uri": "https://localhost:8080/",
          "height": 461
        }
      },
      "source": [
        "#creating the first student\n",
        "student1 = Sequential()\n",
        "student1.add(Conv2D(32, kernel_size=(3, 3),\n",
        "                 activation='relu',\n",
        "                 input_shape=(28, 28, 1),kernel_initializer='normal'))\n",
        "student1.add(Conv2D(8, (3, 3), activation='relu',kernel_initializer='normal'))\n",
        "student1.add(MaxPooling2D(pool_size=(2, 2)))\n",
        "student1.add(Dropout(0.25)) # For reguralization\n",
        "student1.add(Flatten())\n",
        "student1.add(Dense(16, activation='relu',kernel_initializer='normal'))\n",
        "student1.add(Dropout(0.5)) # For reguralization\n",
        "student1.add(Dense(64,activation='relu',kernel_initializer='normal'))\n",
        "\n",
        "\n",
        "print(student1.summary())"
      ],
      "execution_count": 11,
      "outputs": [
        {
          "output_type": "stream",
          "text": [
            "Model: \"sequential_2\"\n",
            "_________________________________________________________________\n",
            "Layer (type)                 Output Shape              Param #   \n",
            "=================================================================\n",
            "conv2d_3 (Conv2D)            (None, 26, 26, 32)        320       \n",
            "_________________________________________________________________\n",
            "conv2d_4 (Conv2D)            (None, 24, 24, 8)         2312      \n",
            "_________________________________________________________________\n",
            "max_pooling2d_2 (MaxPooling2 (None, 12, 12, 8)         0         \n",
            "_________________________________________________________________\n",
            "dropout_3 (Dropout)          (None, 12, 12, 8)         0         \n",
            "_________________________________________________________________\n",
            "flatten_2 (Flatten)          (None, 1152)              0         \n",
            "_________________________________________________________________\n",
            "dense_3 (Dense)              (None, 16)                18448     \n",
            "_________________________________________________________________\n",
            "dropout_4 (Dropout)          (None, 16)                0         \n",
            "_________________________________________________________________\n",
            "dense_4 (Dense)              (None, 64)                1088      \n",
            "=================================================================\n",
            "Total params: 22,168\n",
            "Trainable params: 22,168\n",
            "Non-trainable params: 0\n",
            "_________________________________________________________________\n",
            "None\n"
          ],
          "name": "stdout"
        }
      ]
    },
    {
      "cell_type": "code",
      "metadata": {
        "id": "jyRF8QsZxOex",
        "colab_type": "code",
        "outputId": "4768811a-8ad1-4143-ce63-1494ec68229d",
        "colab": {
          "base_uri": "https://localhost:8080/",
          "height": 461
        }
      },
      "source": [
        "#creating the second student\n",
        "student2 = Sequential()\n",
        "student2.add(Conv2D(32, kernel_size=(3, 3),\n",
        "                 activation='relu',\n",
        "                 input_shape=(28, 28, 1)))\n",
        "student2.add(Conv2D(8, (3, 3), activation='relu'))\n",
        "student2.add(MaxPooling2D(pool_size=(2, 2)))\n",
        "student2.add(Dropout(0.25)) # For reguralization\n",
        "student2.add(Flatten())\n",
        "student2.add(Dense(16, activation='relu'))\n",
        "student2.add(Dropout(0.5)) # For reguralization\n",
        "student2.add(Dense(64,activation='relu'))\n",
        "\n",
        "\n",
        "print(student2.summary())"
      ],
      "execution_count": 12,
      "outputs": [
        {
          "output_type": "stream",
          "text": [
            "Model: \"sequential_3\"\n",
            "_________________________________________________________________\n",
            "Layer (type)                 Output Shape              Param #   \n",
            "=================================================================\n",
            "conv2d_5 (Conv2D)            (None, 26, 26, 32)        320       \n",
            "_________________________________________________________________\n",
            "conv2d_6 (Conv2D)            (None, 24, 24, 8)         2312      \n",
            "_________________________________________________________________\n",
            "max_pooling2d_3 (MaxPooling2 (None, 12, 12, 8)         0         \n",
            "_________________________________________________________________\n",
            "dropout_5 (Dropout)          (None, 12, 12, 8)         0         \n",
            "_________________________________________________________________\n",
            "flatten_3 (Flatten)          (None, 1152)              0         \n",
            "_________________________________________________________________\n",
            "dense_5 (Dense)              (None, 16)                18448     \n",
            "_________________________________________________________________\n",
            "dropout_6 (Dropout)          (None, 16)                0         \n",
            "_________________________________________________________________\n",
            "dense_6 (Dense)              (None, 64)                1088      \n",
            "=================================================================\n",
            "Total params: 22,168\n",
            "Trainable params: 22,168\n",
            "Non-trainable params: 0\n",
            "_________________________________________________________________\n",
            "None\n"
          ],
          "name": "stdout"
        }
      ]
    },
    {
      "cell_type": "code",
      "metadata": {
        "id": "KvlqogbAxO2F",
        "colab_type": "code",
        "outputId": "d38d0558-5926-434f-a4af-cf20a1d24c91",
        "colab": {
          "base_uri": "https://localhost:8080/",
          "height": 461
        }
      },
      "source": [
        "#creating the third student\n",
        "student3 = Sequential()\n",
        "student3.add(Conv2D(32, kernel_size=(3, 3),\n",
        "                 activation='relu',\n",
        "                 input_shape=(28, 28, 1)))\n",
        "student3.add(Conv2D(8, (3, 3), activation='relu'))\n",
        "student3.add(MaxPooling2D(pool_size=(2, 2)))\n",
        "student3.add(Dropout(0.25)) # For reguralization\n",
        "student3.add(Flatten())\n",
        "student3.add(Dense(16, activation='relu'))\n",
        "student3.add(Dropout(0.5)) # For reguralization\n",
        "student3.add(Dense(64,activation='relu'))\n",
        "\n",
        "\n",
        "print(student3.summary())#Look at multi task networks "
      ],
      "execution_count": 13,
      "outputs": [
        {
          "output_type": "stream",
          "text": [
            "Model: \"sequential_4\"\n",
            "_________________________________________________________________\n",
            "Layer (type)                 Output Shape              Param #   \n",
            "=================================================================\n",
            "conv2d_7 (Conv2D)            (None, 26, 26, 32)        320       \n",
            "_________________________________________________________________\n",
            "conv2d_8 (Conv2D)            (None, 24, 24, 8)         2312      \n",
            "_________________________________________________________________\n",
            "max_pooling2d_4 (MaxPooling2 (None, 12, 12, 8)         0         \n",
            "_________________________________________________________________\n",
            "dropout_7 (Dropout)          (None, 12, 12, 8)         0         \n",
            "_________________________________________________________________\n",
            "flatten_4 (Flatten)          (None, 1152)              0         \n",
            "_________________________________________________________________\n",
            "dense_7 (Dense)              (None, 16)                18448     \n",
            "_________________________________________________________________\n",
            "dropout_8 (Dropout)          (None, 16)                0         \n",
            "_________________________________________________________________\n",
            "dense_8 (Dense)              (None, 64)                1088      \n",
            "=================================================================\n",
            "Total params: 22,168\n",
            "Trainable params: 22,168\n",
            "Non-trainable params: 0\n",
            "_________________________________________________________________\n",
            "None\n"
          ],
          "name": "stdout"
        }
      ]
    },
    {
      "cell_type": "code",
      "metadata": {
        "id": "BwRrTDmnxPKT",
        "colab_type": "code",
        "outputId": "c3aa3d90-8dad-445c-e8b2-651f3e462663",
        "colab": {
          "base_uri": "https://localhost:8080/",
          "height": 461
        }
      },
      "source": [
        "#creating the fourth student\n",
        "student4 = Sequential()\n",
        "student4.add(Conv2D(32, kernel_size=(3, 3),\n",
        "                 activation='relu',\n",
        "                 input_shape=(28, 28, 1)))\n",
        "student4.add(Conv2D(8, (3, 3), activation='relu'))\n",
        "student4.add(MaxPooling2D(pool_size=(2, 2)))\n",
        "student4.add(Dropout(0.25)) # For reguralization\n",
        "student4.add(Flatten())\n",
        "student4.add(Dense(16, activation='relu'))\n",
        "student4.add(Dropout(0.5)) # For reguralization\n",
        "student4.add(Dense(64,activation='relu'))\n",
        "\n",
        "print(student4.summary())#Look at multi task networks "
      ],
      "execution_count": 14,
      "outputs": [
        {
          "output_type": "stream",
          "text": [
            "Model: \"sequential_5\"\n",
            "_________________________________________________________________\n",
            "Layer (type)                 Output Shape              Param #   \n",
            "=================================================================\n",
            "conv2d_9 (Conv2D)            (None, 26, 26, 32)        320       \n",
            "_________________________________________________________________\n",
            "conv2d_10 (Conv2D)           (None, 24, 24, 8)         2312      \n",
            "_________________________________________________________________\n",
            "max_pooling2d_5 (MaxPooling2 (None, 12, 12, 8)         0         \n",
            "_________________________________________________________________\n",
            "dropout_9 (Dropout)          (None, 12, 12, 8)         0         \n",
            "_________________________________________________________________\n",
            "flatten_5 (Flatten)          (None, 1152)              0         \n",
            "_________________________________________________________________\n",
            "dense_9 (Dense)              (None, 16)                18448     \n",
            "_________________________________________________________________\n",
            "dropout_10 (Dropout)         (None, 16)                0         \n",
            "_________________________________________________________________\n",
            "dense_10 (Dense)             (None, 64)                1088      \n",
            "=================================================================\n",
            "Total params: 22,168\n",
            "Trainable params: 22,168\n",
            "Non-trainable params: 0\n",
            "_________________________________________________________________\n",
            "None\n"
          ],
          "name": "stdout"
        }
      ]
    },
    {
      "cell_type": "code",
      "metadata": {
        "id": "RzJSd5CExPe_",
        "colab_type": "code",
        "outputId": "b64b83b9-3165-4bf0-aabd-c612a3642a9e",
        "colab": {
          "base_uri": "https://localhost:8080/",
          "height": 461
        }
      },
      "source": [
        "opt=Adam(lr=0.001, beta_1=0.9, beta_2=0.999, amsgrad=True)\n",
        "student1.compile(loss='mean_squared_error', optimizer=opt)\n",
        "print(student1.summary())"
      ],
      "execution_count": 15,
      "outputs": [
        {
          "output_type": "stream",
          "text": [
            "Model: \"sequential_2\"\n",
            "_________________________________________________________________\n",
            "Layer (type)                 Output Shape              Param #   \n",
            "=================================================================\n",
            "conv2d_3 (Conv2D)            (None, 26, 26, 32)        320       \n",
            "_________________________________________________________________\n",
            "conv2d_4 (Conv2D)            (None, 24, 24, 8)         2312      \n",
            "_________________________________________________________________\n",
            "max_pooling2d_2 (MaxPooling2 (None, 12, 12, 8)         0         \n",
            "_________________________________________________________________\n",
            "dropout_3 (Dropout)          (None, 12, 12, 8)         0         \n",
            "_________________________________________________________________\n",
            "flatten_2 (Flatten)          (None, 1152)              0         \n",
            "_________________________________________________________________\n",
            "dense_3 (Dense)              (None, 16)                18448     \n",
            "_________________________________________________________________\n",
            "dropout_4 (Dropout)          (None, 16)                0         \n",
            "_________________________________________________________________\n",
            "dense_4 (Dense)              (None, 64)                1088      \n",
            "=================================================================\n",
            "Total params: 22,168\n",
            "Trainable params: 22,168\n",
            "Non-trainable params: 0\n",
            "_________________________________________________________________\n",
            "None\n"
          ],
          "name": "stdout"
        }
      ]
    },
    {
      "cell_type": "code",
      "metadata": {
        "id": "lyza1aswxp9k",
        "colab_type": "code",
        "outputId": "117e7698-9256-403a-889c-67f01ae06022",
        "colab": {
          "base_uri": "https://localhost:8080/",
          "height": 745
        }
      },
      "source": [
        "#indivdual training\n",
        "history1=student1.fit(X_train,s1Train,\n",
        "          batch_size=256,\n",
        "          epochs=20,\n",
        "          verbose=1,\n",
        "          validation_data=(X_val,s1Test))"
      ],
      "execution_count": 16,
      "outputs": [
        {
          "output_type": "stream",
          "text": [
            "Train on 48000 samples, validate on 12000 samples\n",
            "Epoch 1/20\n",
            "48000/48000 [==============================] - 2s 44us/step - loss: 0.3741 - val_loss: 0.2185\n",
            "Epoch 2/20\n",
            "48000/48000 [==============================] - 2s 37us/step - loss: 0.2708 - val_loss: 0.1874\n",
            "Epoch 3/20\n",
            "48000/48000 [==============================] - 2s 38us/step - loss: 0.2503 - val_loss: 0.1663\n",
            "Epoch 4/20\n",
            "48000/48000 [==============================] - 2s 37us/step - loss: 0.2397 - val_loss: 0.1638\n",
            "Epoch 5/20\n",
            "48000/48000 [==============================] - 2s 38us/step - loss: 0.2351 - val_loss: 0.1584\n",
            "Epoch 6/20\n",
            "48000/48000 [==============================] - 2s 38us/step - loss: 0.2334 - val_loss: 0.1583\n",
            "Epoch 7/20\n",
            "48000/48000 [==============================] - 2s 37us/step - loss: 0.2305 - val_loss: 0.1536\n",
            "Epoch 8/20\n",
            "48000/48000 [==============================] - 2s 37us/step - loss: 0.2304 - val_loss: 0.1555\n",
            "Epoch 9/20\n",
            "48000/48000 [==============================] - 2s 38us/step - loss: 0.2277 - val_loss: 0.1569\n",
            "Epoch 10/20\n",
            "48000/48000 [==============================] - 2s 37us/step - loss: 0.2283 - val_loss: 0.1554\n",
            "Epoch 11/20\n",
            "48000/48000 [==============================] - 2s 37us/step - loss: 0.2263 - val_loss: 0.1528\n",
            "Epoch 12/20\n",
            "48000/48000 [==============================] - 2s 37us/step - loss: 0.2258 - val_loss: 0.1543\n",
            "Epoch 13/20\n",
            "48000/48000 [==============================] - 2s 37us/step - loss: 0.2255 - val_loss: 0.1496\n",
            "Epoch 14/20\n",
            "48000/48000 [==============================] - 2s 37us/step - loss: 0.2255 - val_loss: 0.1487\n",
            "Epoch 15/20\n",
            "48000/48000 [==============================] - 2s 37us/step - loss: 0.2249 - val_loss: 0.1485\n",
            "Epoch 16/20\n",
            "48000/48000 [==============================] - 2s 38us/step - loss: 0.2241 - val_loss: 0.1472\n",
            "Epoch 17/20\n",
            "48000/48000 [==============================] - 2s 38us/step - loss: 0.2230 - val_loss: 0.1490\n",
            "Epoch 18/20\n",
            "48000/48000 [==============================] - 2s 38us/step - loss: 0.2231 - val_loss: 0.1483\n",
            "Epoch 19/20\n",
            "48000/48000 [==============================] - 2s 38us/step - loss: 0.2223 - val_loss: 0.1514\n",
            "Epoch 20/20\n",
            "48000/48000 [==============================] - 2s 38us/step - loss: 0.2234 - val_loss: 0.1471\n"
          ],
          "name": "stdout"
        }
      ]
    },
    {
      "cell_type": "code",
      "metadata": {
        "id": "xGstFkQfxquy",
        "colab_type": "code",
        "outputId": "99429eda-14cb-4d1c-bc7e-ce0e696a4167",
        "colab": {
          "base_uri": "https://localhost:8080/",
          "height": 461
        }
      },
      "source": [
        "opt=Adam(lr=0.001, beta_1=0.9, beta_2=0.999, amsgrad=False)\n",
        "student2.compile(loss='mean_squared_error', optimizer=opt)\n",
        "print(student2.summary())"
      ],
      "execution_count": 17,
      "outputs": [
        {
          "output_type": "stream",
          "text": [
            "Model: \"sequential_3\"\n",
            "_________________________________________________________________\n",
            "Layer (type)                 Output Shape              Param #   \n",
            "=================================================================\n",
            "conv2d_5 (Conv2D)            (None, 26, 26, 32)        320       \n",
            "_________________________________________________________________\n",
            "conv2d_6 (Conv2D)            (None, 24, 24, 8)         2312      \n",
            "_________________________________________________________________\n",
            "max_pooling2d_3 (MaxPooling2 (None, 12, 12, 8)         0         \n",
            "_________________________________________________________________\n",
            "dropout_5 (Dropout)          (None, 12, 12, 8)         0         \n",
            "_________________________________________________________________\n",
            "flatten_3 (Flatten)          (None, 1152)              0         \n",
            "_________________________________________________________________\n",
            "dense_5 (Dense)              (None, 16)                18448     \n",
            "_________________________________________________________________\n",
            "dropout_6 (Dropout)          (None, 16)                0         \n",
            "_________________________________________________________________\n",
            "dense_6 (Dense)              (None, 64)                1088      \n",
            "=================================================================\n",
            "Total params: 22,168\n",
            "Trainable params: 22,168\n",
            "Non-trainable params: 0\n",
            "_________________________________________________________________\n",
            "None\n"
          ],
          "name": "stdout"
        }
      ]
    },
    {
      "cell_type": "code",
      "metadata": {
        "id": "BPTGMDwPxrE-",
        "colab_type": "code",
        "outputId": "0ab6d808-020a-46f2-cda5-06a3101dda42",
        "colab": {
          "base_uri": "https://localhost:8080/",
          "height": 745
        }
      },
      "source": [
        "history2=student2.fit(X_train,s2Train,\n",
        "          batch_size=256,\n",
        "          epochs=20,\n",
        "          verbose=1,\n",
        "          validation_data=(X_val,s2Test))"
      ],
      "execution_count": 18,
      "outputs": [
        {
          "output_type": "stream",
          "text": [
            "Train on 48000 samples, validate on 12000 samples\n",
            "Epoch 1/20\n",
            "48000/48000 [==============================] - 2s 42us/step - loss: 0.3802 - val_loss: 0.2239\n",
            "Epoch 2/20\n",
            "48000/48000 [==============================] - 2s 37us/step - loss: 0.2686 - val_loss: 0.1776\n",
            "Epoch 3/20\n",
            "48000/48000 [==============================] - 2s 38us/step - loss: 0.2430 - val_loss: 0.1694\n",
            "Epoch 4/20\n",
            "48000/48000 [==============================] - 2s 38us/step - loss: 0.2349 - val_loss: 0.1660\n",
            "Epoch 5/20\n",
            "48000/48000 [==============================] - 2s 37us/step - loss: 0.2284 - val_loss: 0.1533\n",
            "Epoch 6/20\n",
            "48000/48000 [==============================] - 2s 38us/step - loss: 0.2243 - val_loss: 0.1538\n",
            "Epoch 7/20\n",
            "48000/48000 [==============================] - 2s 38us/step - loss: 0.2219 - val_loss: 0.1503\n",
            "Epoch 8/20\n",
            "48000/48000 [==============================] - 2s 38us/step - loss: 0.2190 - val_loss: 0.1495\n",
            "Epoch 9/20\n",
            "48000/48000 [==============================] - 2s 38us/step - loss: 0.2181 - val_loss: 0.1492\n",
            "Epoch 10/20\n",
            "48000/48000 [==============================] - 2s 37us/step - loss: 0.2174 - val_loss: 0.1497\n",
            "Epoch 11/20\n",
            "48000/48000 [==============================] - 2s 37us/step - loss: 0.2173 - val_loss: 0.1422\n",
            "Epoch 12/20\n",
            "48000/48000 [==============================] - 2s 37us/step - loss: 0.2165 - val_loss: 0.1472\n",
            "Epoch 13/20\n",
            "48000/48000 [==============================] - 2s 38us/step - loss: 0.2164 - val_loss: 0.1473\n",
            "Epoch 14/20\n",
            "48000/48000 [==============================] - 2s 37us/step - loss: 0.2161 - val_loss: 0.1413\n",
            "Epoch 15/20\n",
            "48000/48000 [==============================] - 2s 37us/step - loss: 0.2141 - val_loss: 0.1458\n",
            "Epoch 16/20\n",
            "48000/48000 [==============================] - 2s 37us/step - loss: 0.2093 - val_loss: 0.1463\n",
            "Epoch 17/20\n",
            "48000/48000 [==============================] - 2s 38us/step - loss: 0.2088 - val_loss: 0.1407\n",
            "Epoch 18/20\n",
            "48000/48000 [==============================] - 2s 38us/step - loss: 0.2077 - val_loss: 0.1366\n",
            "Epoch 19/20\n",
            "48000/48000 [==============================] - 2s 38us/step - loss: 0.2081 - val_loss: 0.1421\n",
            "Epoch 20/20\n",
            "48000/48000 [==============================] - 2s 37us/step - loss: 0.2071 - val_loss: 0.1433\n"
          ],
          "name": "stdout"
        }
      ]
    },
    {
      "cell_type": "code",
      "metadata": {
        "id": "p3_gxxEZxrcN",
        "colab_type": "code",
        "outputId": "24802b96-7de9-45cf-9296-d0f674e98f0a",
        "colab": {
          "base_uri": "https://localhost:8080/",
          "height": 461
        }
      },
      "source": [
        "opt=Adam(lr=0.001, beta_1=0.9, beta_2=0.999, amsgrad=False)\n",
        "student3.compile(loss='mean_squared_error', optimizer=opt)\n",
        "print(student3.summary())"
      ],
      "execution_count": 19,
      "outputs": [
        {
          "output_type": "stream",
          "text": [
            "Model: \"sequential_4\"\n",
            "_________________________________________________________________\n",
            "Layer (type)                 Output Shape              Param #   \n",
            "=================================================================\n",
            "conv2d_7 (Conv2D)            (None, 26, 26, 32)        320       \n",
            "_________________________________________________________________\n",
            "conv2d_8 (Conv2D)            (None, 24, 24, 8)         2312      \n",
            "_________________________________________________________________\n",
            "max_pooling2d_4 (MaxPooling2 (None, 12, 12, 8)         0         \n",
            "_________________________________________________________________\n",
            "dropout_7 (Dropout)          (None, 12, 12, 8)         0         \n",
            "_________________________________________________________________\n",
            "flatten_4 (Flatten)          (None, 1152)              0         \n",
            "_________________________________________________________________\n",
            "dense_7 (Dense)              (None, 16)                18448     \n",
            "_________________________________________________________________\n",
            "dropout_8 (Dropout)          (None, 16)                0         \n",
            "_________________________________________________________________\n",
            "dense_8 (Dense)              (None, 64)                1088      \n",
            "=================================================================\n",
            "Total params: 22,168\n",
            "Trainable params: 22,168\n",
            "Non-trainable params: 0\n",
            "_________________________________________________________________\n",
            "None\n"
          ],
          "name": "stdout"
        }
      ]
    },
    {
      "cell_type": "code",
      "metadata": {
        "id": "9vlGGynhxryZ",
        "colab_type": "code",
        "outputId": "ba1155ba-34e4-4217-faa4-e17aa545f5c6",
        "colab": {
          "base_uri": "https://localhost:8080/",
          "height": 745
        }
      },
      "source": [
        "history3=student3.fit(X_train,s3Train,\n",
        "          batch_size=256,\n",
        "          epochs=20,\n",
        "          verbose=1,\n",
        "          validation_data=(X_val,s3Test))"
      ],
      "execution_count": 20,
      "outputs": [
        {
          "output_type": "stream",
          "text": [
            "Train on 48000 samples, validate on 12000 samples\n",
            "Epoch 1/20\n",
            "48000/48000 [==============================] - 2s 42us/step - loss: 0.4005 - val_loss: 0.2241\n",
            "Epoch 2/20\n",
            "48000/48000 [==============================] - 2s 37us/step - loss: 0.2825 - val_loss: 0.1826\n",
            "Epoch 3/20\n",
            "48000/48000 [==============================] - 2s 37us/step - loss: 0.2603 - val_loss: 0.1736\n",
            "Epoch 4/20\n",
            "48000/48000 [==============================] - 2s 37us/step - loss: 0.2502 - val_loss: 0.1643\n",
            "Epoch 5/20\n",
            "48000/48000 [==============================] - 2s 37us/step - loss: 0.2403 - val_loss: 0.1571\n",
            "Epoch 6/20\n",
            "48000/48000 [==============================] - 2s 37us/step - loss: 0.2353 - val_loss: 0.1603\n",
            "Epoch 7/20\n",
            "48000/48000 [==============================] - 2s 37us/step - loss: 0.2326 - val_loss: 0.1553\n",
            "Epoch 8/20\n",
            "48000/48000 [==============================] - 2s 37us/step - loss: 0.2305 - val_loss: 0.1566\n",
            "Epoch 9/20\n",
            "48000/48000 [==============================] - 2s 37us/step - loss: 0.2272 - val_loss: 0.1449\n",
            "Epoch 10/20\n",
            "48000/48000 [==============================] - 2s 37us/step - loss: 0.2248 - val_loss: 0.1450\n",
            "Epoch 11/20\n",
            "48000/48000 [==============================] - 2s 37us/step - loss: 0.2235 - val_loss: 0.1471\n",
            "Epoch 12/20\n",
            "48000/48000 [==============================] - 2s 37us/step - loss: 0.2227 - val_loss: 0.1460\n",
            "Epoch 13/20\n",
            "48000/48000 [==============================] - 2s 37us/step - loss: 0.2226 - val_loss: 0.1471\n",
            "Epoch 14/20\n",
            "48000/48000 [==============================] - 2s 37us/step - loss: 0.2213 - val_loss: 0.1405\n",
            "Epoch 15/20\n",
            "48000/48000 [==============================] - 2s 37us/step - loss: 0.2201 - val_loss: 0.1464\n",
            "Epoch 16/20\n",
            "48000/48000 [==============================] - 2s 37us/step - loss: 0.2207 - val_loss: 0.1391\n",
            "Epoch 17/20\n",
            "48000/48000 [==============================] - 2s 37us/step - loss: 0.2193 - val_loss: 0.1433\n",
            "Epoch 18/20\n",
            "48000/48000 [==============================] - 2s 37us/step - loss: 0.2199 - val_loss: 0.1408\n",
            "Epoch 19/20\n",
            "48000/48000 [==============================] - 2s 37us/step - loss: 0.2194 - val_loss: 0.1432\n",
            "Epoch 20/20\n",
            "48000/48000 [==============================] - 2s 37us/step - loss: 0.2188 - val_loss: 0.1458\n"
          ],
          "name": "stdout"
        }
      ]
    },
    {
      "cell_type": "code",
      "metadata": {
        "id": "78vX-BdlxshG",
        "colab_type": "code",
        "outputId": "8154f9c4-1e56-450a-d7e6-f1f97f12a556",
        "colab": {
          "base_uri": "https://localhost:8080/",
          "height": 461
        }
      },
      "source": [
        "opt=Adam(lr=0.001, beta_1=0.9, beta_2=0.999, amsgrad=False)\n",
        "student4.compile(loss='mean_squared_error', optimizer=opt)\n",
        "print(student4.summary())"
      ],
      "execution_count": 21,
      "outputs": [
        {
          "output_type": "stream",
          "text": [
            "Model: \"sequential_5\"\n",
            "_________________________________________________________________\n",
            "Layer (type)                 Output Shape              Param #   \n",
            "=================================================================\n",
            "conv2d_9 (Conv2D)            (None, 26, 26, 32)        320       \n",
            "_________________________________________________________________\n",
            "conv2d_10 (Conv2D)           (None, 24, 24, 8)         2312      \n",
            "_________________________________________________________________\n",
            "max_pooling2d_5 (MaxPooling2 (None, 12, 12, 8)         0         \n",
            "_________________________________________________________________\n",
            "dropout_9 (Dropout)          (None, 12, 12, 8)         0         \n",
            "_________________________________________________________________\n",
            "flatten_5 (Flatten)          (None, 1152)              0         \n",
            "_________________________________________________________________\n",
            "dense_9 (Dense)              (None, 16)                18448     \n",
            "_________________________________________________________________\n",
            "dropout_10 (Dropout)         (None, 16)                0         \n",
            "_________________________________________________________________\n",
            "dense_10 (Dense)             (None, 64)                1088      \n",
            "=================================================================\n",
            "Total params: 22,168\n",
            "Trainable params: 22,168\n",
            "Non-trainable params: 0\n",
            "_________________________________________________________________\n",
            "None\n"
          ],
          "name": "stdout"
        }
      ]
    },
    {
      "cell_type": "code",
      "metadata": {
        "id": "TINTTquuy2_S",
        "colab_type": "code",
        "outputId": "24a3f9d5-d2a4-4c32-89ec-a0883a7c7a90",
        "colab": {
          "base_uri": "https://localhost:8080/",
          "height": 745
        }
      },
      "source": [
        "history4=student4.fit(X_train,s4Train,\n",
        "          batch_size=256,\n",
        "          epochs=20,\n",
        "          verbose=1,\n",
        "          validation_data=(X_val,s4Test))"
      ],
      "execution_count": 22,
      "outputs": [
        {
          "output_type": "stream",
          "text": [
            "Train on 48000 samples, validate on 12000 samples\n",
            "Epoch 1/20\n",
            "48000/48000 [==============================] - 2s 41us/step - loss: 0.4109 - val_loss: 0.2237\n",
            "Epoch 2/20\n",
            "48000/48000 [==============================] - 2s 37us/step - loss: 0.2791 - val_loss: 0.1742\n",
            "Epoch 3/20\n",
            "48000/48000 [==============================] - 2s 38us/step - loss: 0.2526 - val_loss: 0.1647\n",
            "Epoch 4/20\n",
            "48000/48000 [==============================] - 2s 37us/step - loss: 0.2398 - val_loss: 0.1593\n",
            "Epoch 5/20\n",
            "48000/48000 [==============================] - 2s 37us/step - loss: 0.2328 - val_loss: 0.1533\n",
            "Epoch 6/20\n",
            "48000/48000 [==============================] - 2s 37us/step - loss: 0.2290 - val_loss: 0.1517\n",
            "Epoch 7/20\n",
            "48000/48000 [==============================] - 2s 37us/step - loss: 0.2255 - val_loss: 0.1548\n",
            "Epoch 8/20\n",
            "48000/48000 [==============================] - 2s 38us/step - loss: 0.2219 - val_loss: 0.1515\n",
            "Epoch 9/20\n",
            "48000/48000 [==============================] - 2s 38us/step - loss: 0.2205 - val_loss: 0.1483\n",
            "Epoch 10/20\n",
            "48000/48000 [==============================] - 2s 37us/step - loss: 0.2193 - val_loss: 0.1470\n",
            "Epoch 11/20\n",
            "48000/48000 [==============================] - 2s 37us/step - loss: 0.2177 - val_loss: 0.1439\n",
            "Epoch 12/20\n",
            "48000/48000 [==============================] - 2s 37us/step - loss: 0.2166 - val_loss: 0.1462\n",
            "Epoch 13/20\n",
            "48000/48000 [==============================] - 2s 37us/step - loss: 0.2153 - val_loss: 0.1387\n",
            "Epoch 14/20\n",
            "48000/48000 [==============================] - 2s 37us/step - loss: 0.2153 - val_loss: 0.1428\n",
            "Epoch 15/20\n",
            "48000/48000 [==============================] - 2s 38us/step - loss: 0.2147 - val_loss: 0.1444\n",
            "Epoch 16/20\n",
            "48000/48000 [==============================] - 2s 37us/step - loss: 0.2140 - val_loss: 0.1435\n",
            "Epoch 17/20\n",
            "48000/48000 [==============================] - 2s 37us/step - loss: 0.2135 - val_loss: 0.1402\n",
            "Epoch 18/20\n",
            "48000/48000 [==============================] - 2s 37us/step - loss: 0.2130 - val_loss: 0.1396\n",
            "Epoch 19/20\n",
            "48000/48000 [==============================] - 2s 37us/step - loss: 0.2131 - val_loss: 0.1387\n",
            "Epoch 20/20\n",
            "48000/48000 [==============================] - 2s 37us/step - loss: 0.2113 - val_loss: 0.1389\n"
          ],
          "name": "stdout"
        }
      ]
    },
    {
      "cell_type": "code",
      "metadata": {
        "id": "uCmpbDgoy8PH",
        "colab_type": "code",
        "outputId": "b8fae807-c52d-42bc-f8ad-fa6acaaf42fc",
        "colab": {
          "base_uri": "https://localhost:8080/",
          "height": 1000
        }
      },
      "source": [
        "#Combining learned chunks of knowledege\n",
        "model_input = Input(shape=(28,28,1))\n",
        "o1=student1.output\n",
        "o2=student2.output\n",
        "o3=student3.output\n",
        "o4=student4.output\n",
        "output=concatenate([o1,o2,o3,o4])\n",
        "print (output.shape)\n",
        "output2=Dropout(0.5)(output) # For reguralization\n",
        "output3=Dense(10)(output2)\n",
        "output4=Activation('softmax')(output3)\n",
        "multi_model=Model([student1.input,student2.input,student3.input,student4.input],output4)\n",
        "\n",
        "multi_model.summary()"
      ],
      "execution_count": 24,
      "outputs": [
        {
          "output_type": "stream",
          "text": [
            "(None, 256)\n",
            "Model: \"model_4\"\n",
            "__________________________________________________________________________________________________\n",
            "Layer (type)                    Output Shape         Param #     Connected to                     \n",
            "==================================================================================================\n",
            "conv2d_3_input (InputLayer)     (None, 28, 28, 1)    0                                            \n",
            "__________________________________________________________________________________________________\n",
            "conv2d_5_input (InputLayer)     (None, 28, 28, 1)    0                                            \n",
            "__________________________________________________________________________________________________\n",
            "conv2d_7_input (InputLayer)     (None, 28, 28, 1)    0                                            \n",
            "__________________________________________________________________________________________________\n",
            "conv2d_9_input (InputLayer)     (None, 28, 28, 1)    0                                            \n",
            "__________________________________________________________________________________________________\n",
            "conv2d_3 (Conv2D)               (None, 26, 26, 32)   320         conv2d_3_input[0][0]             \n",
            "__________________________________________________________________________________________________\n",
            "conv2d_5 (Conv2D)               (None, 26, 26, 32)   320         conv2d_5_input[0][0]             \n",
            "__________________________________________________________________________________________________\n",
            "conv2d_7 (Conv2D)               (None, 26, 26, 32)   320         conv2d_7_input[0][0]             \n",
            "__________________________________________________________________________________________________\n",
            "conv2d_9 (Conv2D)               (None, 26, 26, 32)   320         conv2d_9_input[0][0]             \n",
            "__________________________________________________________________________________________________\n",
            "conv2d_4 (Conv2D)               (None, 24, 24, 8)    2312        conv2d_3[0][0]                   \n",
            "__________________________________________________________________________________________________\n",
            "conv2d_6 (Conv2D)               (None, 24, 24, 8)    2312        conv2d_5[0][0]                   \n",
            "__________________________________________________________________________________________________\n",
            "conv2d_8 (Conv2D)               (None, 24, 24, 8)    2312        conv2d_7[0][0]                   \n",
            "__________________________________________________________________________________________________\n",
            "conv2d_10 (Conv2D)              (None, 24, 24, 8)    2312        conv2d_9[0][0]                   \n",
            "__________________________________________________________________________________________________\n",
            "max_pooling2d_2 (MaxPooling2D)  (None, 12, 12, 8)    0           conv2d_4[0][0]                   \n",
            "__________________________________________________________________________________________________\n",
            "max_pooling2d_3 (MaxPooling2D)  (None, 12, 12, 8)    0           conv2d_6[0][0]                   \n",
            "__________________________________________________________________________________________________\n",
            "max_pooling2d_4 (MaxPooling2D)  (None, 12, 12, 8)    0           conv2d_8[0][0]                   \n",
            "__________________________________________________________________________________________________\n",
            "max_pooling2d_5 (MaxPooling2D)  (None, 12, 12, 8)    0           conv2d_10[0][0]                  \n",
            "__________________________________________________________________________________________________\n",
            "dropout_3 (Dropout)             (None, 12, 12, 8)    0           max_pooling2d_2[0][0]            \n",
            "__________________________________________________________________________________________________\n",
            "dropout_5 (Dropout)             (None, 12, 12, 8)    0           max_pooling2d_3[0][0]            \n",
            "__________________________________________________________________________________________________\n",
            "dropout_7 (Dropout)             (None, 12, 12, 8)    0           max_pooling2d_4[0][0]            \n",
            "__________________________________________________________________________________________________\n",
            "dropout_9 (Dropout)             (None, 12, 12, 8)    0           max_pooling2d_5[0][0]            \n",
            "__________________________________________________________________________________________________\n",
            "flatten_2 (Flatten)             (None, 1152)         0           dropout_3[0][0]                  \n",
            "__________________________________________________________________________________________________\n",
            "flatten_3 (Flatten)             (None, 1152)         0           dropout_5[0][0]                  \n",
            "__________________________________________________________________________________________________\n",
            "flatten_4 (Flatten)             (None, 1152)         0           dropout_7[0][0]                  \n",
            "__________________________________________________________________________________________________\n",
            "flatten_5 (Flatten)             (None, 1152)         0           dropout_9[0][0]                  \n",
            "__________________________________________________________________________________________________\n",
            "dense_3 (Dense)                 (None, 16)           18448       flatten_2[0][0]                  \n",
            "__________________________________________________________________________________________________\n",
            "dense_5 (Dense)                 (None, 16)           18448       flatten_3[0][0]                  \n",
            "__________________________________________________________________________________________________\n",
            "dense_7 (Dense)                 (None, 16)           18448       flatten_4[0][0]                  \n",
            "__________________________________________________________________________________________________\n",
            "dense_9 (Dense)                 (None, 16)           18448       flatten_5[0][0]                  \n",
            "__________________________________________________________________________________________________\n",
            "dropout_4 (Dropout)             (None, 16)           0           dense_3[0][0]                    \n",
            "__________________________________________________________________________________________________\n",
            "dropout_6 (Dropout)             (None, 16)           0           dense_5[0][0]                    \n",
            "__________________________________________________________________________________________________\n",
            "dropout_8 (Dropout)             (None, 16)           0           dense_7[0][0]                    \n",
            "__________________________________________________________________________________________________\n",
            "dropout_10 (Dropout)            (None, 16)           0           dense_9[0][0]                    \n",
            "__________________________________________________________________________________________________\n",
            "dense_4 (Dense)                 (None, 64)           1088        dropout_4[0][0]                  \n",
            "__________________________________________________________________________________________________\n",
            "dense_6 (Dense)                 (None, 64)           1088        dropout_6[0][0]                  \n",
            "__________________________________________________________________________________________________\n",
            "dense_8 (Dense)                 (None, 64)           1088        dropout_8[0][0]                  \n",
            "__________________________________________________________________________________________________\n",
            "dense_10 (Dense)                (None, 64)           1088        dropout_10[0][0]                 \n",
            "__________________________________________________________________________________________________\n",
            "concatenate_2 (Concatenate)     (None, 256)          0           dense_4[0][0]                    \n",
            "                                                                 dense_6[0][0]                    \n",
            "                                                                 dense_8[0][0]                    \n",
            "                                                                 dense_10[0][0]                   \n",
            "__________________________________________________________________________________________________\n",
            "dropout_12 (Dropout)            (None, 256)          0           concatenate_2[0][0]              \n",
            "__________________________________________________________________________________________________\n",
            "dense_12 (Dense)                (None, 10)           2570        dropout_12[0][0]                 \n",
            "__________________________________________________________________________________________________\n",
            "activation_3 (Activation)       (None, 10)           0           dense_12[0][0]                   \n",
            "==================================================================================================\n",
            "Total params: 91,242\n",
            "Trainable params: 91,242\n",
            "Non-trainable params: 0\n",
            "__________________________________________________________________________________________________\n"
          ],
          "name": "stdout"
        }
      ]
    },
    {
      "cell_type": "code",
      "metadata": {
        "id": "5U3Sgb43bSiz",
        "colab_type": "code",
        "colab": {}
      },
      "source": [
        "#Extracting classification weights from the teacher network\n",
        "my_weights=teacher.get_layer('dense_2').get_weights()"
      ],
      "execution_count": 0,
      "outputs": []
    },
    {
      "cell_type": "code",
      "metadata": {
        "id": "1UeKLlDCbTWB",
        "colab_type": "code",
        "colab": {}
      },
      "source": [
        "#assigning the extracted weights as a starting point to the combined student network\n",
        "multi_model.get_layer('dense_12').set_weights(my_weights)"
      ],
      "execution_count": 0,
      "outputs": []
    },
    {
      "cell_type": "code",
      "metadata": {
        "id": "S-F5ZnCfz-dt",
        "colab_type": "code",
        "colab": {}
      },
      "source": [
        "#for 4 students freeze till layer 36\n",
        "for l in multi_model.layers[:36]:\n",
        "  l.trainable=False"
      ],
      "execution_count": 0,
      "outputs": []
    },
    {
      "cell_type": "code",
      "metadata": {
        "id": "ooI4oQjZz-9N",
        "colab_type": "code",
        "colab": {}
      },
      "source": [
        "multi_model.compile(loss='categorical_crossentropy',\n",
        "              optimizer='adadelta',\n",
        "              metrics=['accuracy'])"
      ],
      "execution_count": 0,
      "outputs": []
    },
    {
      "cell_type": "code",
      "metadata": {
        "id": "RJC8WQbbz_XA",
        "colab_type": "code",
        "outputId": "087dbfae-1638-4256-951e-dc91ba61e1f8",
        "colab": {
          "base_uri": "https://localhost:8080/",
          "height": 1000
        }
      },
      "source": [
        "multi_model.summary()"
      ],
      "execution_count": 29,
      "outputs": [
        {
          "output_type": "stream",
          "text": [
            "Model: \"model_4\"\n",
            "__________________________________________________________________________________________________\n",
            "Layer (type)                    Output Shape         Param #     Connected to                     \n",
            "==================================================================================================\n",
            "conv2d_3_input (InputLayer)     (None, 28, 28, 1)    0                                            \n",
            "__________________________________________________________________________________________________\n",
            "conv2d_5_input (InputLayer)     (None, 28, 28, 1)    0                                            \n",
            "__________________________________________________________________________________________________\n",
            "conv2d_7_input (InputLayer)     (None, 28, 28, 1)    0                                            \n",
            "__________________________________________________________________________________________________\n",
            "conv2d_9_input (InputLayer)     (None, 28, 28, 1)    0                                            \n",
            "__________________________________________________________________________________________________\n",
            "conv2d_3 (Conv2D)               (None, 26, 26, 32)   320         conv2d_3_input[0][0]             \n",
            "__________________________________________________________________________________________________\n",
            "conv2d_5 (Conv2D)               (None, 26, 26, 32)   320         conv2d_5_input[0][0]             \n",
            "__________________________________________________________________________________________________\n",
            "conv2d_7 (Conv2D)               (None, 26, 26, 32)   320         conv2d_7_input[0][0]             \n",
            "__________________________________________________________________________________________________\n",
            "conv2d_9 (Conv2D)               (None, 26, 26, 32)   320         conv2d_9_input[0][0]             \n",
            "__________________________________________________________________________________________________\n",
            "conv2d_4 (Conv2D)               (None, 24, 24, 8)    2312        conv2d_3[0][0]                   \n",
            "__________________________________________________________________________________________________\n",
            "conv2d_6 (Conv2D)               (None, 24, 24, 8)    2312        conv2d_5[0][0]                   \n",
            "__________________________________________________________________________________________________\n",
            "conv2d_8 (Conv2D)               (None, 24, 24, 8)    2312        conv2d_7[0][0]                   \n",
            "__________________________________________________________________________________________________\n",
            "conv2d_10 (Conv2D)              (None, 24, 24, 8)    2312        conv2d_9[0][0]                   \n",
            "__________________________________________________________________________________________________\n",
            "max_pooling2d_2 (MaxPooling2D)  (None, 12, 12, 8)    0           conv2d_4[0][0]                   \n",
            "__________________________________________________________________________________________________\n",
            "max_pooling2d_3 (MaxPooling2D)  (None, 12, 12, 8)    0           conv2d_6[0][0]                   \n",
            "__________________________________________________________________________________________________\n",
            "max_pooling2d_4 (MaxPooling2D)  (None, 12, 12, 8)    0           conv2d_8[0][0]                   \n",
            "__________________________________________________________________________________________________\n",
            "max_pooling2d_5 (MaxPooling2D)  (None, 12, 12, 8)    0           conv2d_10[0][0]                  \n",
            "__________________________________________________________________________________________________\n",
            "dropout_3 (Dropout)             (None, 12, 12, 8)    0           max_pooling2d_2[0][0]            \n",
            "__________________________________________________________________________________________________\n",
            "dropout_5 (Dropout)             (None, 12, 12, 8)    0           max_pooling2d_3[0][0]            \n",
            "__________________________________________________________________________________________________\n",
            "dropout_7 (Dropout)             (None, 12, 12, 8)    0           max_pooling2d_4[0][0]            \n",
            "__________________________________________________________________________________________________\n",
            "dropout_9 (Dropout)             (None, 12, 12, 8)    0           max_pooling2d_5[0][0]            \n",
            "__________________________________________________________________________________________________\n",
            "flatten_2 (Flatten)             (None, 1152)         0           dropout_3[0][0]                  \n",
            "__________________________________________________________________________________________________\n",
            "flatten_3 (Flatten)             (None, 1152)         0           dropout_5[0][0]                  \n",
            "__________________________________________________________________________________________________\n",
            "flatten_4 (Flatten)             (None, 1152)         0           dropout_7[0][0]                  \n",
            "__________________________________________________________________________________________________\n",
            "flatten_5 (Flatten)             (None, 1152)         0           dropout_9[0][0]                  \n",
            "__________________________________________________________________________________________________\n",
            "dense_3 (Dense)                 (None, 16)           18448       flatten_2[0][0]                  \n",
            "__________________________________________________________________________________________________\n",
            "dense_5 (Dense)                 (None, 16)           18448       flatten_3[0][0]                  \n",
            "__________________________________________________________________________________________________\n",
            "dense_7 (Dense)                 (None, 16)           18448       flatten_4[0][0]                  \n",
            "__________________________________________________________________________________________________\n",
            "dense_9 (Dense)                 (None, 16)           18448       flatten_5[0][0]                  \n",
            "__________________________________________________________________________________________________\n",
            "dropout_4 (Dropout)             (None, 16)           0           dense_3[0][0]                    \n",
            "__________________________________________________________________________________________________\n",
            "dropout_6 (Dropout)             (None, 16)           0           dense_5[0][0]                    \n",
            "__________________________________________________________________________________________________\n",
            "dropout_8 (Dropout)             (None, 16)           0           dense_7[0][0]                    \n",
            "__________________________________________________________________________________________________\n",
            "dropout_10 (Dropout)            (None, 16)           0           dense_9[0][0]                    \n",
            "__________________________________________________________________________________________________\n",
            "dense_4 (Dense)                 (None, 64)           1088        dropout_4[0][0]                  \n",
            "__________________________________________________________________________________________________\n",
            "dense_6 (Dense)                 (None, 64)           1088        dropout_6[0][0]                  \n",
            "__________________________________________________________________________________________________\n",
            "dense_8 (Dense)                 (None, 64)           1088        dropout_8[0][0]                  \n",
            "__________________________________________________________________________________________________\n",
            "dense_10 (Dense)                (None, 64)           1088        dropout_10[0][0]                 \n",
            "__________________________________________________________________________________________________\n",
            "concatenate_2 (Concatenate)     (None, 256)          0           dense_4[0][0]                    \n",
            "                                                                 dense_6[0][0]                    \n",
            "                                                                 dense_8[0][0]                    \n",
            "                                                                 dense_10[0][0]                   \n",
            "__________________________________________________________________________________________________\n",
            "dropout_12 (Dropout)            (None, 256)          0           concatenate_2[0][0]              \n",
            "__________________________________________________________________________________________________\n",
            "dense_12 (Dense)                (None, 10)           2570        dropout_12[0][0]                 \n",
            "__________________________________________________________________________________________________\n",
            "activation_3 (Activation)       (None, 10)           0           dense_12[0][0]                   \n",
            "==================================================================================================\n",
            "Total params: 91,242\n",
            "Trainable params: 2,570\n",
            "Non-trainable params: 88,672\n",
            "__________________________________________________________________________________________________\n"
          ],
          "name": "stdout"
        }
      ]
    },
    {
      "cell_type": "code",
      "metadata": {
        "id": "itXpISU8z_vR",
        "colab_type": "code",
        "outputId": "f1aa31ff-f7e7-4013-c045-7fed99c9ee9f",
        "colab": {
          "base_uri": "https://localhost:8080/",
          "height": 410
        }
      },
      "source": [
        "# Train the combined model for 4 students \n",
        "epochs = 10\n",
        "batch_size = 256\n",
        "mm_history=multi_model.fit([X_train,X_train,X_train,X_train], Y_train,\n",
        "          batch_size=batch_size,\n",
        "          epochs=epochs,\n",
        "          verbose=1,\n",
        "          validation_data=([X_val,X_val,X_val,X_val], Y_val))"
      ],
      "execution_count": 30,
      "outputs": [
        {
          "output_type": "stream",
          "text": [
            "Train on 48000 samples, validate on 12000 samples\n",
            "Epoch 1/10\n",
            "48000/48000 [==============================] - 3s 64us/step - loss: 0.5556 - accuracy: 0.7886 - val_loss: 0.3690 - val_accuracy: 0.8559\n",
            "Epoch 2/10\n",
            "48000/48000 [==============================] - 3s 59us/step - loss: 0.5339 - accuracy: 0.7950 - val_loss: 0.3651 - val_accuracy: 0.8621\n",
            "Epoch 3/10\n",
            "48000/48000 [==============================] - 3s 60us/step - loss: 0.5189 - accuracy: 0.8020 - val_loss: 0.3636 - val_accuracy: 0.8627\n",
            "Epoch 4/10\n",
            "48000/48000 [==============================] - 3s 61us/step - loss: 0.5166 - accuracy: 0.8020 - val_loss: 0.3600 - val_accuracy: 0.8667\n",
            "Epoch 5/10\n",
            "48000/48000 [==============================] - 3s 59us/step - loss: 0.5094 - accuracy: 0.8040 - val_loss: 0.3606 - val_accuracy: 0.8655\n",
            "Epoch 6/10\n",
            "48000/48000 [==============================] - 3s 59us/step - loss: 0.5073 - accuracy: 0.8059 - val_loss: 0.3613 - val_accuracy: 0.8663\n",
            "Epoch 7/10\n",
            "48000/48000 [==============================] - 3s 59us/step - loss: 0.5052 - accuracy: 0.8087 - val_loss: 0.3613 - val_accuracy: 0.8682\n",
            "Epoch 8/10\n",
            "48000/48000 [==============================] - 3s 59us/step - loss: 0.5048 - accuracy: 0.8079 - val_loss: 0.3604 - val_accuracy: 0.8687\n",
            "Epoch 9/10\n",
            "48000/48000 [==============================] - 3s 59us/step - loss: 0.5019 - accuracy: 0.8066 - val_loss: 0.3625 - val_accuracy: 0.8631\n",
            "Epoch 10/10\n",
            "48000/48000 [==============================] - 3s 60us/step - loss: 0.5032 - accuracy: 0.8068 - val_loss: 0.3596 - val_accuracy: 0.8707\n"
          ],
          "name": "stdout"
        }
      ]
    },
    {
      "cell_type": "code",
      "metadata": {
        "id": "qaOtono67Xno",
        "colab_type": "code",
        "outputId": "b4aaa1f5-6dd4-4374-813c-438bc6f7d5da",
        "colab": {
          "base_uri": "https://localhost:8080/",
          "height": 70
        }
      },
      "source": [
        "#Checking the combined student model accuracy\n",
        "preds=multi_model.predict([X_test,X_test,X_test,X_test])\n",
        "numbers=[0,1,2,3,4,5,6,7,8,9]\n",
        "preds2=[]\n",
        "for p in preds:\n",
        "  preds2.append(numbers[np.argmax(p)])\n",
        "preds2=np.array(preds2)\n",
        "\n",
        "print (y_test)\n",
        "print (preds2)\n",
        "print (np.sum(y_test==preds2))"
      ],
      "execution_count": 31,
      "outputs": [
        {
          "output_type": "stream",
          "text": [
            "[9 2 1 ... 8 1 5]\n",
            "[9 2 1 ... 8 1 5]\n",
            "8614\n"
          ],
          "name": "stdout"
        }
      ]
    }
  ]
}
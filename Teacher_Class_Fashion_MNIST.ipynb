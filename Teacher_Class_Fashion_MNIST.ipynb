{
  "nbformat": 4,
  "nbformat_minor": 0,
  "metadata": {
    "colab": {
      "name": "Teacher-Class Fashion MNIST.ipynb",
      "provenance": [],
      "collapsed_sections": [],
      "toc_visible": true
    },
    "kernelspec": {
      "name": "python3",
      "display_name": "Python 3"
    },
    "accelerator": "GPU"
  },
  "cells": [
    {
      "cell_type": "code",
      "metadata": {
        "id": "d3IoPGgwt6rz",
        "colab_type": "code",
        "outputId": "e26d2fc1-fd1c-401d-d623-b04801010c59",
        "colab": {
          "base_uri": "https://localhost:8080/",
          "height": 34
        }
      },
      "source": [
        "#imports\n",
        "import keras\n",
        "from keras.datasets import fashion_mnist,mnist,cifar10\n",
        "from keras.layers import Activation, Input, Embedding, LSTM, Dense, Lambda, GaussianNoise, concatenate\n",
        "from keras.models import Model\n",
        "import numpy as np\n",
        "from keras.utils import np_utils\n",
        "from keras.layers.core import Dense, Dropout, Activation\n",
        "from keras import backend as K\n",
        "from keras.models import Sequential\n",
        "from keras.layers import Dense\n",
        "from sklearn.model_selection import train_test_split\n",
        "from keras.optimizers import SGD, Adam, RMSprop\n",
        "from keras.constraints import max_norm\n",
        "from keras.layers import MaxPooling2D, Dropout, Dense, Flatten, Activation, Conv2D\n",
        "from keras.models import Sequential\n",
        "from keras.losses import categorical_crossentropy as logloss\n",
        "from keras.metrics import categorical_accuracy\n",
        "import matplotlib.pyplot as plt\n",
        "from sklearn.metrics import mean_squared_error\n",
        "from matplotlib import offsetbox"
      ],
      "execution_count": 1,
      "outputs": [
        {
          "output_type": "stream",
          "text": [
            "Using TensorFlow backend.\n"
          ],
          "name": "stderr"
        }
      ]
    },
    {
      "cell_type": "code",
      "metadata": {
        "id": "bc6js2SIuJGg",
        "colab_type": "code",
        "outputId": "33beb742-30de-4929-c8d8-128516833c4a",
        "colab": {
          "base_uri": "https://localhost:8080/",
          "height": 158
        }
      },
      "source": [
        "#Loading and splitting the dataset into train, validation and test\n",
        "nb_classes = 10\n",
        "\n",
        "(X_Train, y_Train), (X_test, y_test) = fashion_mnist.load_data()\n",
        "X_train, X_val, y_train, y_val = train_test_split(X_Train, y_Train, test_size=0.20)\n",
        "# convert y_train and y_test to categorical binary values \n",
        "Y_train = np_utils.to_categorical(y_train, nb_classes)\n",
        "Y_val = np_utils.to_categorical(y_val, nb_classes)"
      ],
      "execution_count": 2,
      "outputs": [
        {
          "output_type": "stream",
          "text": [
            "Downloading data from http://fashion-mnist.s3-website.eu-central-1.amazonaws.com/train-labels-idx1-ubyte.gz\n",
            "32768/29515 [=================================] - 0s 8us/step\n",
            "Downloading data from http://fashion-mnist.s3-website.eu-central-1.amazonaws.com/train-images-idx3-ubyte.gz\n",
            "26427392/26421880 [==============================] - 4s 0us/step\n",
            "Downloading data from http://fashion-mnist.s3-website.eu-central-1.amazonaws.com/t10k-labels-idx1-ubyte.gz\n",
            "8192/5148 [===============================================] - 0s 0us/step\n",
            "Downloading data from http://fashion-mnist.s3-website.eu-central-1.amazonaws.com/t10k-images-idx3-ubyte.gz\n",
            "4423680/4422102 [==============================] - 2s 0us/step\n"
          ],
          "name": "stdout"
        }
      ]
    },
    {
      "cell_type": "code",
      "metadata": {
        "id": "k-VfVidfuJjn",
        "colab_type": "code",
        "colab": {}
      },
      "source": [
        "# Reshape them to batch_size, width,height,#channels\n",
        "X_train = X_train.reshape(48000, 28, 28, 1)\n",
        "X_val = X_val.reshape(12000, 28, 28, 1)\n",
        "\n",
        "X_train = X_train.astype('float32')\n",
        "X_val = X_val.astype('float32')\n",
        "\n",
        "# Normalize the values\n",
        "X_train /= 255\n",
        "X_val /= 255"
      ],
      "execution_count": 0,
      "outputs": []
    },
    {
      "cell_type": "code",
      "metadata": {
        "id": "GVDPoyYwuJ8b",
        "colab_type": "code",
        "outputId": "3b734178-547e-4c4e-c735-c014f1e8e81c",
        "colab": {
          "base_uri": "https://localhost:8080/",
          "height": 496
        }
      },
      "source": [
        "#Creating a teacher network\n",
        "input_shape = (28, 28, 1) # Input shape of each image\n",
        "\n",
        "teacher = Sequential()\n",
        "teacher.add(Conv2D(32, kernel_size=(3, 3),\n",
        "                 activation='relu',\n",
        "                 input_shape=input_shape))\n",
        "teacher.add(Conv2D(64, (3, 3), activation='relu'))\n",
        "teacher.add(MaxPooling2D(pool_size=(2, 2)))\n",
        "\n",
        "teacher.add(Dropout(0.25)) # For reguralization\n",
        "\n",
        "teacher.add(Flatten())\n",
        "teacher.add(Dense(256, activation='relu'))\n",
        "teacher.add(Dropout(0.5)) # For reguralization\n",
        "\n",
        "teacher.add(Dense(nb_classes))\n",
        "teacher.add(Activation('softmax')) # Note that we add a normal softmax layer to begin with\n",
        "\n",
        "teacher.compile(loss='categorical_crossentropy',\n",
        "              optimizer='adadelta',\n",
        "              metrics=['accuracy'])\n",
        "\n",
        "print(teacher.summary())"
      ],
      "execution_count": 4,
      "outputs": [
        {
          "output_type": "stream",
          "text": [
            "Model: \"sequential_1\"\n",
            "_________________________________________________________________\n",
            "Layer (type)                 Output Shape              Param #   \n",
            "=================================================================\n",
            "conv2d_1 (Conv2D)            (None, 26, 26, 32)        320       \n",
            "_________________________________________________________________\n",
            "conv2d_2 (Conv2D)            (None, 24, 24, 64)        18496     \n",
            "_________________________________________________________________\n",
            "max_pooling2d_1 (MaxPooling2 (None, 12, 12, 64)        0         \n",
            "_________________________________________________________________\n",
            "dropout_1 (Dropout)          (None, 12, 12, 64)        0         \n",
            "_________________________________________________________________\n",
            "flatten_1 (Flatten)          (None, 9216)              0         \n",
            "_________________________________________________________________\n",
            "dense_1 (Dense)              (None, 256)               2359552   \n",
            "_________________________________________________________________\n",
            "dropout_2 (Dropout)          (None, 256)               0         \n",
            "_________________________________________________________________\n",
            "dense_2 (Dense)              (None, 10)                2570      \n",
            "_________________________________________________________________\n",
            "activation_1 (Activation)    (None, 10)                0         \n",
            "=================================================================\n",
            "Total params: 2,380,938\n",
            "Trainable params: 2,380,938\n",
            "Non-trainable params: 0\n",
            "_________________________________________________________________\n",
            "None\n"
          ],
          "name": "stdout"
        }
      ]
    },
    {
      "cell_type": "code",
      "metadata": {
        "id": "I8exalVcuKTh",
        "colab_type": "code",
        "outputId": "48d1f9bb-0831-4777-ae27-2af86deca82f",
        "colab": {
          "base_uri": "https://localhost:8080/",
          "height": 605
        }
      },
      "source": [
        "# Train the teacher model as usual\n",
        "epochs = 15\n",
        "batch_size = 256\n",
        "teacher.fit(X_train, Y_train,\n",
        "          batch_size=batch_size,\n",
        "          epochs=epochs,\n",
        "          verbose=1,\n",
        "          validation_data=(X_val, Y_val))"
      ],
      "execution_count": 5,
      "outputs": [
        {
          "output_type": "stream",
          "text": [
            "Train on 48000 samples, validate on 12000 samples\n",
            "Epoch 1/15\n",
            "48000/48000 [==============================] - 12s 249us/step - loss: 0.6717 - accuracy: 0.7638 - val_loss: 0.4007 - val_accuracy: 0.8583\n",
            "Epoch 2/15\n",
            "48000/48000 [==============================] - 6s 122us/step - loss: 0.3994 - accuracy: 0.8556 - val_loss: 0.3360 - val_accuracy: 0.8802\n",
            "Epoch 3/15\n",
            "48000/48000 [==============================] - 6s 122us/step - loss: 0.3416 - accuracy: 0.8753 - val_loss: 0.3231 - val_accuracy: 0.8760\n",
            "Epoch 4/15\n",
            "48000/48000 [==============================] - 6s 122us/step - loss: 0.3032 - accuracy: 0.8911 - val_loss: 0.2798 - val_accuracy: 0.8961\n",
            "Epoch 5/15\n",
            "48000/48000 [==============================] - 6s 124us/step - loss: 0.2798 - accuracy: 0.8980 - val_loss: 0.2619 - val_accuracy: 0.9060\n",
            "Epoch 6/15\n",
            "48000/48000 [==============================] - 6s 122us/step - loss: 0.2610 - accuracy: 0.9057 - val_loss: 0.2521 - val_accuracy: 0.9097\n",
            "Epoch 7/15\n",
            "48000/48000 [==============================] - 6s 121us/step - loss: 0.2441 - accuracy: 0.9107 - val_loss: 0.2543 - val_accuracy: 0.9069\n",
            "Epoch 8/15\n",
            "48000/48000 [==============================] - 6s 122us/step - loss: 0.2286 - accuracy: 0.9158 - val_loss: 0.2323 - val_accuracy: 0.9147\n",
            "Epoch 9/15\n",
            "48000/48000 [==============================] - 6s 122us/step - loss: 0.2117 - accuracy: 0.9222 - val_loss: 0.2290 - val_accuracy: 0.9158\n",
            "Epoch 10/15\n",
            "48000/48000 [==============================] - 6s 122us/step - loss: 0.2018 - accuracy: 0.9258 - val_loss: 0.2475 - val_accuracy: 0.9091\n",
            "Epoch 11/15\n",
            "48000/48000 [==============================] - 6s 121us/step - loss: 0.1895 - accuracy: 0.9295 - val_loss: 0.2216 - val_accuracy: 0.9186\n",
            "Epoch 12/15\n",
            "48000/48000 [==============================] - 6s 122us/step - loss: 0.1785 - accuracy: 0.9357 - val_loss: 0.2206 - val_accuracy: 0.9196\n",
            "Epoch 13/15\n",
            "48000/48000 [==============================] - 6s 122us/step - loss: 0.1690 - accuracy: 0.9379 - val_loss: 0.2163 - val_accuracy: 0.9223\n",
            "Epoch 14/15\n",
            "48000/48000 [==============================] - 6s 122us/step - loss: 0.1609 - accuracy: 0.9412 - val_loss: 0.2175 - val_accuracy: 0.9231\n",
            "Epoch 15/15\n",
            "48000/48000 [==============================] - 6s 120us/step - loss: 0.1508 - accuracy: 0.9438 - val_loss: 0.2130 - val_accuracy: 0.9225\n"
          ],
          "name": "stdout"
        },
        {
          "output_type": "execute_result",
          "data": {
            "text/plain": [
              "<keras.callbacks.callbacks.History at 0x7f524ba5e7b8>"
            ]
          },
          "metadata": {
            "tags": []
          },
          "execution_count": 5
        }
      ]
    },
    {
      "cell_type": "code",
      "metadata": {
        "id": "jDgbAf6nuKvd",
        "colab_type": "code",
        "outputId": "3f1da900-ec58-4767-8874-aafa2674c379",
        "colab": {
          "base_uri": "https://localhost:8080/",
          "height": 70
        }
      },
      "source": [
        "#checking teachers test accuracy\n",
        "X_test = X_test.reshape(10000, 28, 28, 1)\n",
        "\n",
        "X_test = X_test.astype('float32')\n",
        "# Normalize the values\n",
        "X_test /= 255\n",
        "preds=teacher.predict(X_test)\n",
        "\n",
        "numbers=[0,1,2,3,4,5,6,7,8,9]\n",
        "preds2=[]\n",
        "for p in preds:\n",
        "  preds2.append(numbers[np.argmax(p)])\n",
        "preds2=np.array(preds2)\n",
        "\n",
        "print (y_test)\n",
        "print (preds2)\n",
        "print (np.sum(y_test==preds2))"
      ],
      "execution_count": 6,
      "outputs": [
        {
          "output_type": "stream",
          "text": [
            "[9 2 1 ... 8 1 5]\n",
            "[9 2 1 ... 8 1 5]\n",
            "9197\n"
          ],
          "name": "stdout"
        }
      ]
    },
    {
      "cell_type": "code",
      "metadata": {
        "id": "iD32QuELuLKz",
        "colab_type": "code",
        "colab": {}
      },
      "source": [
        "#Collect the dense vector from the previous layer output and store it in a different model\n",
        "teacher_WO_Softmax = Model(teacher.input, teacher.get_layer('dense_1').output)"
      ],
      "execution_count": 0,
      "outputs": []
    },
    {
      "cell_type": "code",
      "metadata": {
        "id": "5UVoR8uFuLgp",
        "colab_type": "code",
        "colab": {}
      },
      "source": [
        "#Extracting dense representation from the teacher network\n",
        "train_dense = teacher_WO_Softmax.predict(X_train)\n",
        "test_dense = teacher_WO_Softmax.predict(X_val)"
      ],
      "execution_count": 0,
      "outputs": []
    },
    {
      "cell_type": "code",
      "metadata": {
        "id": "iHa4vVVuuMJ_",
        "colab_type": "code",
        "outputId": "b186d911-ab23-4b21-e82d-7e02fe031125",
        "colab": {
          "base_uri": "https://localhost:8080/",
          "height": 87
        }
      },
      "source": [
        "#Splitting the training dense vector among N students(in this case 4)\n",
        "s1Train=train_dense[:,:64]\n",
        "s2Train=train_dense[:,64:128]\n",
        "s3Train=train_dense[:,128:192]\n",
        "s4Train=train_dense[:,192:]\n",
        "print (s1Train.shape)\n",
        "print (s2Train.shape)\n",
        "print (s3Train.shape)\n",
        "print (s4Train.shape)"
      ],
      "execution_count": 9,
      "outputs": [
        {
          "output_type": "stream",
          "text": [
            "(48000, 64)\n",
            "(48000, 64)\n",
            "(48000, 64)\n",
            "(48000, 64)\n"
          ],
          "name": "stdout"
        }
      ]
    },
    {
      "cell_type": "code",
      "metadata": {
        "id": "Ul5qsXu0wkLy",
        "colab_type": "code",
        "outputId": "79c4d86e-81d3-4e8c-ce34-960ef30c29c8",
        "colab": {
          "base_uri": "https://localhost:8080/",
          "height": 87
        }
      },
      "source": [
        "#Splitting the test dense vector among N students(in this case 4)\n",
        "s1Test=test_dense[:,:64]\n",
        "s2Test=test_dense[:,64:128]\n",
        "s3Test=test_dense[:,128:192]\n",
        "s4Test=test_dense[:,192:]\n",
        "print (s1Test.shape)\n",
        "print (s2Test.shape)\n",
        "print (s3Test.shape)\n",
        "print (s4Test.shape)"
      ],
      "execution_count": 10,
      "outputs": [
        {
          "output_type": "stream",
          "text": [
            "(12000, 64)\n",
            "(12000, 64)\n",
            "(12000, 64)\n",
            "(12000, 64)\n"
          ],
          "name": "stdout"
        }
      ]
    },
    {
      "cell_type": "code",
      "metadata": {
        "id": "1W3VGSekwkkV",
        "colab_type": "code",
        "outputId": "dd45e402-2e3f-49ce-cac7-888b0fd5327e",
        "colab": {
          "base_uri": "https://localhost:8080/",
          "height": 461
        }
      },
      "source": [
        "#creating the first student\n",
        "student1 = Sequential()\n",
        "student1.add(Conv2D(32, kernel_size=(3, 3),\n",
        "                 activation='relu',\n",
        "                 input_shape=(28, 28, 1),kernel_initializer='normal'))\n",
        "student1.add(Conv2D(8, (3, 3), activation='relu',kernel_initializer='normal'))\n",
        "student1.add(MaxPooling2D(pool_size=(2, 2)))\n",
        "student1.add(Dropout(0.25)) # For reguralization\n",
        "student1.add(Flatten())\n",
        "student1.add(Dense(16, activation='relu',kernel_initializer='normal'))\n",
        "student1.add(Dropout(0.5)) # For reguralization\n",
        "student1.add(Dense(64,activation='relu',kernel_initializer='normal'))\n",
        "\n",
        "\n",
        "print(student1.summary())"
      ],
      "execution_count": 11,
      "outputs": [
        {
          "output_type": "stream",
          "text": [
            "Model: \"sequential_2\"\n",
            "_________________________________________________________________\n",
            "Layer (type)                 Output Shape              Param #   \n",
            "=================================================================\n",
            "conv2d_3 (Conv2D)            (None, 26, 26, 32)        320       \n",
            "_________________________________________________________________\n",
            "conv2d_4 (Conv2D)            (None, 24, 24, 8)         2312      \n",
            "_________________________________________________________________\n",
            "max_pooling2d_2 (MaxPooling2 (None, 12, 12, 8)         0         \n",
            "_________________________________________________________________\n",
            "dropout_3 (Dropout)          (None, 12, 12, 8)         0         \n",
            "_________________________________________________________________\n",
            "flatten_2 (Flatten)          (None, 1152)              0         \n",
            "_________________________________________________________________\n",
            "dense_3 (Dense)              (None, 16)                18448     \n",
            "_________________________________________________________________\n",
            "dropout_4 (Dropout)          (None, 16)                0         \n",
            "_________________________________________________________________\n",
            "dense_4 (Dense)              (None, 64)                1088      \n",
            "=================================================================\n",
            "Total params: 22,168\n",
            "Trainable params: 22,168\n",
            "Non-trainable params: 0\n",
            "_________________________________________________________________\n",
            "None\n"
          ],
          "name": "stdout"
        }
      ]
    },
    {
      "cell_type": "code",
      "metadata": {
        "id": "jyRF8QsZxOex",
        "colab_type": "code",
        "outputId": "b540fa2f-0d56-4d3e-a4f0-fa9742373c08",
        "colab": {
          "base_uri": "https://localhost:8080/",
          "height": 461
        }
      },
      "source": [
        "#creating the second student\n",
        "student2 = Sequential()\n",
        "student2.add(Conv2D(32, kernel_size=(3, 3),\n",
        "                 activation='relu',\n",
        "                 input_shape=(28, 28, 1)))\n",
        "student2.add(Conv2D(8, (3, 3), activation='relu'))\n",
        "student2.add(MaxPooling2D(pool_size=(2, 2)))\n",
        "student2.add(Dropout(0.25)) # For reguralization\n",
        "student2.add(Flatten())\n",
        "student2.add(Dense(16, activation='relu'))\n",
        "student2.add(Dropout(0.5)) # For reguralization\n",
        "student2.add(Dense(64,activation='relu'))\n",
        "\n",
        "\n",
        "print(student2.summary())"
      ],
      "execution_count": 12,
      "outputs": [
        {
          "output_type": "stream",
          "text": [
            "Model: \"sequential_3\"\n",
            "_________________________________________________________________\n",
            "Layer (type)                 Output Shape              Param #   \n",
            "=================================================================\n",
            "conv2d_5 (Conv2D)            (None, 26, 26, 32)        320       \n",
            "_________________________________________________________________\n",
            "conv2d_6 (Conv2D)            (None, 24, 24, 8)         2312      \n",
            "_________________________________________________________________\n",
            "max_pooling2d_3 (MaxPooling2 (None, 12, 12, 8)         0         \n",
            "_________________________________________________________________\n",
            "dropout_5 (Dropout)          (None, 12, 12, 8)         0         \n",
            "_________________________________________________________________\n",
            "flatten_3 (Flatten)          (None, 1152)              0         \n",
            "_________________________________________________________________\n",
            "dense_5 (Dense)              (None, 16)                18448     \n",
            "_________________________________________________________________\n",
            "dropout_6 (Dropout)          (None, 16)                0         \n",
            "_________________________________________________________________\n",
            "dense_6 (Dense)              (None, 64)                1088      \n",
            "=================================================================\n",
            "Total params: 22,168\n",
            "Trainable params: 22,168\n",
            "Non-trainable params: 0\n",
            "_________________________________________________________________\n",
            "None\n"
          ],
          "name": "stdout"
        }
      ]
    },
    {
      "cell_type": "code",
      "metadata": {
        "id": "KvlqogbAxO2F",
        "colab_type": "code",
        "outputId": "d9cca23a-a9f7-45d0-cbba-a0f1afd99a96",
        "colab": {
          "base_uri": "https://localhost:8080/",
          "height": 461
        }
      },
      "source": [
        "#creating the third student\n",
        "student3 = Sequential()\n",
        "student3.add(Conv2D(32, kernel_size=(3, 3),\n",
        "                 activation='relu',\n",
        "                 input_shape=(28, 28, 1)))\n",
        "student3.add(Conv2D(8, (3, 3), activation='relu'))\n",
        "student3.add(MaxPooling2D(pool_size=(2, 2)))\n",
        "student3.add(Dropout(0.25)) # For reguralization\n",
        "student3.add(Flatten())\n",
        "student3.add(Dense(16, activation='relu'))\n",
        "student3.add(Dropout(0.5)) # For reguralization\n",
        "student3.add(Dense(64,activation='relu'))\n",
        "\n",
        "\n",
        "print(student3.summary())"
      ],
      "execution_count": 13,
      "outputs": [
        {
          "output_type": "stream",
          "text": [
            "Model: \"sequential_4\"\n",
            "_________________________________________________________________\n",
            "Layer (type)                 Output Shape              Param #   \n",
            "=================================================================\n",
            "conv2d_7 (Conv2D)            (None, 26, 26, 32)        320       \n",
            "_________________________________________________________________\n",
            "conv2d_8 (Conv2D)            (None, 24, 24, 8)         2312      \n",
            "_________________________________________________________________\n",
            "max_pooling2d_4 (MaxPooling2 (None, 12, 12, 8)         0         \n",
            "_________________________________________________________________\n",
            "dropout_7 (Dropout)          (None, 12, 12, 8)         0         \n",
            "_________________________________________________________________\n",
            "flatten_4 (Flatten)          (None, 1152)              0         \n",
            "_________________________________________________________________\n",
            "dense_7 (Dense)              (None, 16)                18448     \n",
            "_________________________________________________________________\n",
            "dropout_8 (Dropout)          (None, 16)                0         \n",
            "_________________________________________________________________\n",
            "dense_8 (Dense)              (None, 64)                1088      \n",
            "=================================================================\n",
            "Total params: 22,168\n",
            "Trainable params: 22,168\n",
            "Non-trainable params: 0\n",
            "_________________________________________________________________\n",
            "None\n"
          ],
          "name": "stdout"
        }
      ]
    },
    {
      "cell_type": "code",
      "metadata": {
        "id": "BwRrTDmnxPKT",
        "colab_type": "code",
        "outputId": "626464b4-a35f-4878-e880-42cc72bef953",
        "colab": {
          "base_uri": "https://localhost:8080/",
          "height": 461
        }
      },
      "source": [
        "#creating the fourth student\n",
        "student4 = Sequential()\n",
        "student4.add(Conv2D(32, kernel_size=(3, 3),\n",
        "                 activation='relu',\n",
        "                 input_shape=(28, 28, 1)))\n",
        "student4.add(Conv2D(8, (3, 3), activation='relu'))\n",
        "student4.add(MaxPooling2D(pool_size=(2, 2)))\n",
        "student4.add(Dropout(0.25)) # For reguralization\n",
        "student4.add(Flatten())\n",
        "student4.add(Dense(16, activation='relu'))\n",
        "student4.add(Dropout(0.5)) # For reguralization\n",
        "student4.add(Dense(64,activation='relu'))\n",
        "\n",
        "print(student4.summary())"
      ],
      "execution_count": 14,
      "outputs": [
        {
          "output_type": "stream",
          "text": [
            "Model: \"sequential_5\"\n",
            "_________________________________________________________________\n",
            "Layer (type)                 Output Shape              Param #   \n",
            "=================================================================\n",
            "conv2d_9 (Conv2D)            (None, 26, 26, 32)        320       \n",
            "_________________________________________________________________\n",
            "conv2d_10 (Conv2D)           (None, 24, 24, 8)         2312      \n",
            "_________________________________________________________________\n",
            "max_pooling2d_5 (MaxPooling2 (None, 12, 12, 8)         0         \n",
            "_________________________________________________________________\n",
            "dropout_9 (Dropout)          (None, 12, 12, 8)         0         \n",
            "_________________________________________________________________\n",
            "flatten_5 (Flatten)          (None, 1152)              0         \n",
            "_________________________________________________________________\n",
            "dense_9 (Dense)              (None, 16)                18448     \n",
            "_________________________________________________________________\n",
            "dropout_10 (Dropout)         (None, 16)                0         \n",
            "_________________________________________________________________\n",
            "dense_10 (Dense)             (None, 64)                1088      \n",
            "=================================================================\n",
            "Total params: 22,168\n",
            "Trainable params: 22,168\n",
            "Non-trainable params: 0\n",
            "_________________________________________________________________\n",
            "None\n"
          ],
          "name": "stdout"
        }
      ]
    },
    {
      "cell_type": "code",
      "metadata": {
        "id": "RzJSd5CExPe_",
        "colab_type": "code",
        "outputId": "ad39e0cd-7016-4ae9-a856-6553287c7f1e",
        "colab": {
          "base_uri": "https://localhost:8080/",
          "height": 461
        }
      },
      "source": [
        "opt=Adam(lr=0.001, beta_1=0.9, beta_2=0.999, amsgrad=True)\n",
        "student1.compile(loss='mean_squared_error', optimizer=opt)\n",
        "print(student1.summary())"
      ],
      "execution_count": 15,
      "outputs": [
        {
          "output_type": "stream",
          "text": [
            "Model: \"sequential_2\"\n",
            "_________________________________________________________________\n",
            "Layer (type)                 Output Shape              Param #   \n",
            "=================================================================\n",
            "conv2d_3 (Conv2D)            (None, 26, 26, 32)        320       \n",
            "_________________________________________________________________\n",
            "conv2d_4 (Conv2D)            (None, 24, 24, 8)         2312      \n",
            "_________________________________________________________________\n",
            "max_pooling2d_2 (MaxPooling2 (None, 12, 12, 8)         0         \n",
            "_________________________________________________________________\n",
            "dropout_3 (Dropout)          (None, 12, 12, 8)         0         \n",
            "_________________________________________________________________\n",
            "flatten_2 (Flatten)          (None, 1152)              0         \n",
            "_________________________________________________________________\n",
            "dense_3 (Dense)              (None, 16)                18448     \n",
            "_________________________________________________________________\n",
            "dropout_4 (Dropout)          (None, 16)                0         \n",
            "_________________________________________________________________\n",
            "dense_4 (Dense)              (None, 64)                1088      \n",
            "=================================================================\n",
            "Total params: 22,168\n",
            "Trainable params: 22,168\n",
            "Non-trainable params: 0\n",
            "_________________________________________________________________\n",
            "None\n"
          ],
          "name": "stdout"
        }
      ]
    },
    {
      "cell_type": "code",
      "metadata": {
        "id": "lyza1aswxp9k",
        "colab_type": "code",
        "outputId": "150dcfb7-f2ff-4a46-9fb2-06895f26b06f",
        "colab": {
          "base_uri": "https://localhost:8080/",
          "height": 745
        }
      },
      "source": [
        "#indivdual training\n",
        "history1=student1.fit(X_train,s1Train,\n",
        "          batch_size=256,\n",
        "          epochs=20,\n",
        "          verbose=1,\n",
        "          validation_data=(X_val,s1Test))"
      ],
      "execution_count": 16,
      "outputs": [
        {
          "output_type": "stream",
          "text": [
            "Train on 48000 samples, validate on 12000 samples\n",
            "Epoch 1/20\n",
            "48000/48000 [==============================] - 3s 60us/step - loss: 0.3863 - val_loss: 0.2135\n",
            "Epoch 2/20\n",
            "48000/48000 [==============================] - 2s 52us/step - loss: 0.2756 - val_loss: 0.1825\n",
            "Epoch 3/20\n",
            "48000/48000 [==============================] - 2s 50us/step - loss: 0.2559 - val_loss: 0.1737\n",
            "Epoch 4/20\n",
            "48000/48000 [==============================] - 3s 53us/step - loss: 0.2480 - val_loss: 0.1659\n",
            "Epoch 5/20\n",
            "48000/48000 [==============================] - 2s 52us/step - loss: 0.2425 - val_loss: 0.1614\n",
            "Epoch 6/20\n",
            "48000/48000 [==============================] - 2s 51us/step - loss: 0.2383 - val_loss: 0.1719\n",
            "Epoch 7/20\n",
            "48000/48000 [==============================] - 2s 51us/step - loss: 0.2342 - val_loss: 0.1659\n",
            "Epoch 8/20\n",
            "48000/48000 [==============================] - 2s 50us/step - loss: 0.2321 - val_loss: 0.1551\n",
            "Epoch 9/20\n",
            "48000/48000 [==============================] - 2s 50us/step - loss: 0.2313 - val_loss: 0.1576\n",
            "Epoch 10/20\n",
            "48000/48000 [==============================] - 2s 52us/step - loss: 0.2291 - val_loss: 0.1559\n",
            "Epoch 11/20\n",
            "48000/48000 [==============================] - 2s 50us/step - loss: 0.2288 - val_loss: 0.1502\n",
            "Epoch 12/20\n",
            "48000/48000 [==============================] - 2s 50us/step - loss: 0.2267 - val_loss: 0.1534\n",
            "Epoch 13/20\n",
            "48000/48000 [==============================] - 2s 50us/step - loss: 0.2257 - val_loss: 0.1528\n",
            "Epoch 14/20\n",
            "48000/48000 [==============================] - 2s 50us/step - loss: 0.2257 - val_loss: 0.1526\n",
            "Epoch 15/20\n",
            "48000/48000 [==============================] - 2s 50us/step - loss: 0.2213 - val_loss: 0.1472\n",
            "Epoch 16/20\n",
            "48000/48000 [==============================] - 2s 50us/step - loss: 0.2185 - val_loss: 0.1464\n",
            "Epoch 17/20\n",
            "48000/48000 [==============================] - 2s 50us/step - loss: 0.2182 - val_loss: 0.1472\n",
            "Epoch 18/20\n",
            "48000/48000 [==============================] - 2s 50us/step - loss: 0.2168 - val_loss: 0.1466\n",
            "Epoch 19/20\n",
            "48000/48000 [==============================] - 2s 50us/step - loss: 0.2162 - val_loss: 0.1443\n",
            "Epoch 20/20\n",
            "48000/48000 [==============================] - 2s 50us/step - loss: 0.2171 - val_loss: 0.1435\n"
          ],
          "name": "stdout"
        }
      ]
    },
    {
      "cell_type": "code",
      "metadata": {
        "id": "xGstFkQfxquy",
        "colab_type": "code",
        "outputId": "28cbcb5a-3ce2-4d1f-e491-f9b6625ccfa5",
        "colab": {
          "base_uri": "https://localhost:8080/",
          "height": 461
        }
      },
      "source": [
        "opt=Adam(lr=0.001, beta_1=0.9, beta_2=0.999, amsgrad=False)\n",
        "student2.compile(loss='mean_squared_error', optimizer=opt)\n",
        "print(student2.summary())"
      ],
      "execution_count": 17,
      "outputs": [
        {
          "output_type": "stream",
          "text": [
            "Model: \"sequential_3\"\n",
            "_________________________________________________________________\n",
            "Layer (type)                 Output Shape              Param #   \n",
            "=================================================================\n",
            "conv2d_5 (Conv2D)            (None, 26, 26, 32)        320       \n",
            "_________________________________________________________________\n",
            "conv2d_6 (Conv2D)            (None, 24, 24, 8)         2312      \n",
            "_________________________________________________________________\n",
            "max_pooling2d_3 (MaxPooling2 (None, 12, 12, 8)         0         \n",
            "_________________________________________________________________\n",
            "dropout_5 (Dropout)          (None, 12, 12, 8)         0         \n",
            "_________________________________________________________________\n",
            "flatten_3 (Flatten)          (None, 1152)              0         \n",
            "_________________________________________________________________\n",
            "dense_5 (Dense)              (None, 16)                18448     \n",
            "_________________________________________________________________\n",
            "dropout_6 (Dropout)          (None, 16)                0         \n",
            "_________________________________________________________________\n",
            "dense_6 (Dense)              (None, 64)                1088      \n",
            "=================================================================\n",
            "Total params: 22,168\n",
            "Trainable params: 22,168\n",
            "Non-trainable params: 0\n",
            "_________________________________________________________________\n",
            "None\n"
          ],
          "name": "stdout"
        }
      ]
    },
    {
      "cell_type": "code",
      "metadata": {
        "id": "BPTGMDwPxrE-",
        "colab_type": "code",
        "outputId": "ab01a6e0-8f49-4c2d-f60c-eb7a928c4404",
        "colab": {
          "base_uri": "https://localhost:8080/",
          "height": 745
        }
      },
      "source": [
        "history2=student2.fit(X_train,s2Train,\n",
        "          batch_size=256,\n",
        "          epochs=20,\n",
        "          verbose=1,\n",
        "          validation_data=(X_val,s2Test))"
      ],
      "execution_count": 18,
      "outputs": [
        {
          "output_type": "stream",
          "text": [
            "Train on 48000 samples, validate on 12000 samples\n",
            "Epoch 1/20\n",
            "48000/48000 [==============================] - 3s 56us/step - loss: 0.3691 - val_loss: 0.2263\n",
            "Epoch 2/20\n",
            "48000/48000 [==============================] - 2s 51us/step - loss: 0.2523 - val_loss: 0.1641\n",
            "Epoch 3/20\n",
            "48000/48000 [==============================] - 2s 51us/step - loss: 0.2239 - val_loss: 0.1458\n",
            "Epoch 4/20\n",
            "48000/48000 [==============================] - 2s 50us/step - loss: 0.2131 - val_loss: 0.1467\n",
            "Epoch 5/20\n",
            "48000/48000 [==============================] - 2s 50us/step - loss: 0.2093 - val_loss: 0.1354\n",
            "Epoch 6/20\n",
            "48000/48000 [==============================] - 2s 50us/step - loss: 0.2068 - val_loss: 0.1434\n",
            "Epoch 7/20\n",
            "48000/48000 [==============================] - 2s 50us/step - loss: 0.2051 - val_loss: 0.1339\n",
            "Epoch 8/20\n",
            "48000/48000 [==============================] - 2s 50us/step - loss: 0.2034 - val_loss: 0.1369\n",
            "Epoch 9/20\n",
            "48000/48000 [==============================] - 2s 52us/step - loss: 0.2029 - val_loss: 0.1312\n",
            "Epoch 10/20\n",
            "48000/48000 [==============================] - 2s 50us/step - loss: 0.2025 - val_loss: 0.1321\n",
            "Epoch 11/20\n",
            "48000/48000 [==============================] - 2s 49us/step - loss: 0.2013 - val_loss: 0.1386\n",
            "Epoch 12/20\n",
            "48000/48000 [==============================] - 2s 50us/step - loss: 0.2006 - val_loss: 0.1361\n",
            "Epoch 13/20\n",
            "48000/48000 [==============================] - 2s 49us/step - loss: 0.2011 - val_loss: 0.1334\n",
            "Epoch 14/20\n",
            "48000/48000 [==============================] - 2s 49us/step - loss: 0.2003 - val_loss: 0.1297\n",
            "Epoch 15/20\n",
            "48000/48000 [==============================] - 2s 50us/step - loss: 0.2002 - val_loss: 0.1347\n",
            "Epoch 16/20\n",
            "48000/48000 [==============================] - 2s 49us/step - loss: 0.1988 - val_loss: 0.1310\n",
            "Epoch 17/20\n",
            "48000/48000 [==============================] - 2s 50us/step - loss: 0.1995 - val_loss: 0.1369\n",
            "Epoch 18/20\n",
            "48000/48000 [==============================] - 2s 51us/step - loss: 0.1995 - val_loss: 0.1380\n",
            "Epoch 19/20\n",
            "48000/48000 [==============================] - 2s 50us/step - loss: 0.1992 - val_loss: 0.1282\n",
            "Epoch 20/20\n",
            "48000/48000 [==============================] - 2s 50us/step - loss: 0.1982 - val_loss: 0.1280\n"
          ],
          "name": "stdout"
        }
      ]
    },
    {
      "cell_type": "code",
      "metadata": {
        "id": "p3_gxxEZxrcN",
        "colab_type": "code",
        "outputId": "de77ea04-a615-4124-9091-632ac952992f",
        "colab": {
          "base_uri": "https://localhost:8080/",
          "height": 461
        }
      },
      "source": [
        "opt=Adam(lr=0.001, beta_1=0.9, beta_2=0.999, amsgrad=False)\n",
        "student3.compile(loss='mean_squared_error', optimizer=opt)\n",
        "print(student3.summary())"
      ],
      "execution_count": 19,
      "outputs": [
        {
          "output_type": "stream",
          "text": [
            "Model: \"sequential_4\"\n",
            "_________________________________________________________________\n",
            "Layer (type)                 Output Shape              Param #   \n",
            "=================================================================\n",
            "conv2d_7 (Conv2D)            (None, 26, 26, 32)        320       \n",
            "_________________________________________________________________\n",
            "conv2d_8 (Conv2D)            (None, 24, 24, 8)         2312      \n",
            "_________________________________________________________________\n",
            "max_pooling2d_4 (MaxPooling2 (None, 12, 12, 8)         0         \n",
            "_________________________________________________________________\n",
            "dropout_7 (Dropout)          (None, 12, 12, 8)         0         \n",
            "_________________________________________________________________\n",
            "flatten_4 (Flatten)          (None, 1152)              0         \n",
            "_________________________________________________________________\n",
            "dense_7 (Dense)              (None, 16)                18448     \n",
            "_________________________________________________________________\n",
            "dropout_8 (Dropout)          (None, 16)                0         \n",
            "_________________________________________________________________\n",
            "dense_8 (Dense)              (None, 64)                1088      \n",
            "=================================================================\n",
            "Total params: 22,168\n",
            "Trainable params: 22,168\n",
            "Non-trainable params: 0\n",
            "_________________________________________________________________\n",
            "None\n"
          ],
          "name": "stdout"
        }
      ]
    },
    {
      "cell_type": "code",
      "metadata": {
        "id": "9vlGGynhxryZ",
        "colab_type": "code",
        "outputId": "c267b5d3-2a04-4a8b-e0c4-617e16a2187b",
        "colab": {
          "base_uri": "https://localhost:8080/",
          "height": 745
        }
      },
      "source": [
        "history3=student3.fit(X_train,s3Train,\n",
        "          batch_size=256,\n",
        "          epochs=20,\n",
        "          verbose=1,\n",
        "          validation_data=(X_val,s3Test))"
      ],
      "execution_count": 20,
      "outputs": [
        {
          "output_type": "stream",
          "text": [
            "Train on 48000 samples, validate on 12000 samples\n",
            "Epoch 1/20\n",
            "48000/48000 [==============================] - 3s 56us/step - loss: 0.3736 - val_loss: 0.2103\n",
            "Epoch 2/20\n",
            "48000/48000 [==============================] - 2s 50us/step - loss: 0.2504 - val_loss: 0.1623\n",
            "Epoch 3/20\n",
            "48000/48000 [==============================] - 2s 50us/step - loss: 0.2242 - val_loss: 0.1436\n",
            "Epoch 4/20\n",
            "48000/48000 [==============================] - 2s 49us/step - loss: 0.2119 - val_loss: 0.1352\n",
            "Epoch 5/20\n",
            "48000/48000 [==============================] - 2s 51us/step - loss: 0.2055 - val_loss: 0.1380\n",
            "Epoch 6/20\n",
            "48000/48000 [==============================] - 2s 49us/step - loss: 0.2007 - val_loss: 0.1308\n",
            "Epoch 7/20\n",
            "48000/48000 [==============================] - 2s 50us/step - loss: 0.1975 - val_loss: 0.1314\n",
            "Epoch 8/20\n",
            "48000/48000 [==============================] - 2s 49us/step - loss: 0.1958 - val_loss: 0.1327\n",
            "Epoch 9/20\n",
            "48000/48000 [==============================] - 2s 50us/step - loss: 0.1943 - val_loss: 0.1249\n",
            "Epoch 10/20\n",
            "48000/48000 [==============================] - 2s 49us/step - loss: 0.1935 - val_loss: 0.1298\n",
            "Epoch 11/20\n",
            "48000/48000 [==============================] - 2s 50us/step - loss: 0.1908 - val_loss: 0.1232\n",
            "Epoch 12/20\n",
            "48000/48000 [==============================] - 2s 50us/step - loss: 0.1912 - val_loss: 0.1298\n",
            "Epoch 13/20\n",
            "48000/48000 [==============================] - 2s 51us/step - loss: 0.1913 - val_loss: 0.1236\n",
            "Epoch 14/20\n",
            "48000/48000 [==============================] - 2s 51us/step - loss: 0.1905 - val_loss: 0.1238\n",
            "Epoch 15/20\n",
            "48000/48000 [==============================] - 2s 50us/step - loss: 0.1895 - val_loss: 0.1236\n",
            "Epoch 16/20\n",
            "48000/48000 [==============================] - 2s 49us/step - loss: 0.1895 - val_loss: 0.1251\n",
            "Epoch 17/20\n",
            "48000/48000 [==============================] - 2s 49us/step - loss: 0.1889 - val_loss: 0.1266\n",
            "Epoch 18/20\n",
            "48000/48000 [==============================] - 2s 50us/step - loss: 0.1884 - val_loss: 0.1215\n",
            "Epoch 19/20\n",
            "48000/48000 [==============================] - 2s 50us/step - loss: 0.1853 - val_loss: 0.1226\n",
            "Epoch 20/20\n",
            "48000/48000 [==============================] - 2s 50us/step - loss: 0.1836 - val_loss: 0.1233\n"
          ],
          "name": "stdout"
        }
      ]
    },
    {
      "cell_type": "code",
      "metadata": {
        "id": "78vX-BdlxshG",
        "colab_type": "code",
        "outputId": "6a4250b9-65ba-463a-b94b-c55e878a5c24",
        "colab": {
          "base_uri": "https://localhost:8080/",
          "height": 461
        }
      },
      "source": [
        "opt=Adam(lr=0.001, beta_1=0.9, beta_2=0.999, amsgrad=False)\n",
        "student4.compile(loss='mean_squared_error', optimizer=opt)\n",
        "print(student4.summary())"
      ],
      "execution_count": 21,
      "outputs": [
        {
          "output_type": "stream",
          "text": [
            "Model: \"sequential_5\"\n",
            "_________________________________________________________________\n",
            "Layer (type)                 Output Shape              Param #   \n",
            "=================================================================\n",
            "conv2d_9 (Conv2D)            (None, 26, 26, 32)        320       \n",
            "_________________________________________________________________\n",
            "conv2d_10 (Conv2D)           (None, 24, 24, 8)         2312      \n",
            "_________________________________________________________________\n",
            "max_pooling2d_5 (MaxPooling2 (None, 12, 12, 8)         0         \n",
            "_________________________________________________________________\n",
            "dropout_9 (Dropout)          (None, 12, 12, 8)         0         \n",
            "_________________________________________________________________\n",
            "flatten_5 (Flatten)          (None, 1152)              0         \n",
            "_________________________________________________________________\n",
            "dense_9 (Dense)              (None, 16)                18448     \n",
            "_________________________________________________________________\n",
            "dropout_10 (Dropout)         (None, 16)                0         \n",
            "_________________________________________________________________\n",
            "dense_10 (Dense)             (None, 64)                1088      \n",
            "=================================================================\n",
            "Total params: 22,168\n",
            "Trainable params: 22,168\n",
            "Non-trainable params: 0\n",
            "_________________________________________________________________\n",
            "None\n"
          ],
          "name": "stdout"
        }
      ]
    },
    {
      "cell_type": "code",
      "metadata": {
        "id": "TINTTquuy2_S",
        "colab_type": "code",
        "outputId": "8744de70-6519-4604-88c6-6831d04f3d2b",
        "colab": {
          "base_uri": "https://localhost:8080/",
          "height": 745
        }
      },
      "source": [
        "history4=student4.fit(X_train,s4Train,\n",
        "          batch_size=256,\n",
        "          epochs=20,\n",
        "          verbose=1,\n",
        "          validation_data=(X_val,s4Test))"
      ],
      "execution_count": 22,
      "outputs": [
        {
          "output_type": "stream",
          "text": [
            "Train on 48000 samples, validate on 12000 samples\n",
            "Epoch 1/20\n",
            "48000/48000 [==============================] - 3s 55us/step - loss: 0.4600 - val_loss: 0.2629\n",
            "Epoch 2/20\n",
            "48000/48000 [==============================] - 2s 49us/step - loss: 0.3048 - val_loss: 0.1910\n",
            "Epoch 3/20\n",
            "48000/48000 [==============================] - 2s 51us/step - loss: 0.2643 - val_loss: 0.1696\n",
            "Epoch 4/20\n",
            "48000/48000 [==============================] - 2s 50us/step - loss: 0.2516 - val_loss: 0.1642\n",
            "Epoch 5/20\n",
            "48000/48000 [==============================] - 2s 49us/step - loss: 0.2428 - val_loss: 0.1587\n",
            "Epoch 6/20\n",
            "48000/48000 [==============================] - 2s 50us/step - loss: 0.2379 - val_loss: 0.1498\n",
            "Epoch 7/20\n",
            "48000/48000 [==============================] - 2s 50us/step - loss: 0.2336 - val_loss: 0.1561\n",
            "Epoch 8/20\n",
            "48000/48000 [==============================] - 2s 49us/step - loss: 0.2314 - val_loss: 0.1535\n",
            "Epoch 9/20\n",
            "48000/48000 [==============================] - 2s 50us/step - loss: 0.2293 - val_loss: 0.1519\n",
            "Epoch 10/20\n",
            "48000/48000 [==============================] - 2s 51us/step - loss: 0.2278 - val_loss: 0.1439\n",
            "Epoch 11/20\n",
            "48000/48000 [==============================] - 2s 51us/step - loss: 0.2265 - val_loss: 0.1478\n",
            "Epoch 12/20\n",
            "48000/48000 [==============================] - 2s 49us/step - loss: 0.2242 - val_loss: 0.1449\n",
            "Epoch 13/20\n",
            "48000/48000 [==============================] - 2s 49us/step - loss: 0.2246 - val_loss: 0.1457\n",
            "Epoch 14/20\n",
            "48000/48000 [==============================] - 2s 49us/step - loss: 0.2234 - val_loss: 0.1442\n",
            "Epoch 15/20\n",
            "48000/48000 [==============================] - 2s 49us/step - loss: 0.2218 - val_loss: 0.1472\n",
            "Epoch 16/20\n",
            "48000/48000 [==============================] - 2s 50us/step - loss: 0.2222 - val_loss: 0.1463\n",
            "Epoch 17/20\n",
            "48000/48000 [==============================] - 2s 51us/step - loss: 0.2221 - val_loss: 0.1437\n",
            "Epoch 18/20\n",
            "48000/48000 [==============================] - 3s 54us/step - loss: 0.2220 - val_loss: 0.1454\n",
            "Epoch 19/20\n",
            "48000/48000 [==============================] - 2s 51us/step - loss: 0.2211 - val_loss: 0.1431\n",
            "Epoch 20/20\n",
            "48000/48000 [==============================] - 2s 51us/step - loss: 0.2201 - val_loss: 0.1412\n"
          ],
          "name": "stdout"
        }
      ]
    },
    {
      "cell_type": "code",
      "metadata": {
        "id": "uCmpbDgoy8PH",
        "colab_type": "code",
        "outputId": "ee7f6f4b-8338-4640-970e-4d40214d160d",
        "colab": {
          "base_uri": "https://localhost:8080/",
          "height": 1000
        }
      },
      "source": [
        "#Combining learned chunks of knowledege\n",
        "model_input = Input(shape=(28,28,1))\n",
        "o1=student1.output\n",
        "o2=student2.output\n",
        "o3=student3.output\n",
        "o4=student4.output\n",
        "output=concatenate([o1,o2,o3,o4])\n",
        "print (output.shape)\n",
        "#Applying problem/output specific layers\n",
        "output2=Dropout(0.5)(output) # For reguralization\n",
        "output3=Dense(10)(output2)\n",
        "output4=Activation('softmax')(output3)\n",
        "multi_model=Model([student1.input,student2.input,student3.input,student4.input],output4)\n",
        "\n",
        "multi_model.summary()"
      ],
      "execution_count": 23,
      "outputs": [
        {
          "output_type": "stream",
          "text": [
            "(None, 256)\n",
            "Model: \"model_2\"\n",
            "__________________________________________________________________________________________________\n",
            "Layer (type)                    Output Shape         Param #     Connected to                     \n",
            "==================================================================================================\n",
            "conv2d_3_input (InputLayer)     (None, 28, 28, 1)    0                                            \n",
            "__________________________________________________________________________________________________\n",
            "conv2d_5_input (InputLayer)     (None, 28, 28, 1)    0                                            \n",
            "__________________________________________________________________________________________________\n",
            "conv2d_7_input (InputLayer)     (None, 28, 28, 1)    0                                            \n",
            "__________________________________________________________________________________________________\n",
            "conv2d_9_input (InputLayer)     (None, 28, 28, 1)    0                                            \n",
            "__________________________________________________________________________________________________\n",
            "conv2d_3 (Conv2D)               (None, 26, 26, 32)   320         conv2d_3_input[0][0]             \n",
            "__________________________________________________________________________________________________\n",
            "conv2d_5 (Conv2D)               (None, 26, 26, 32)   320         conv2d_5_input[0][0]             \n",
            "__________________________________________________________________________________________________\n",
            "conv2d_7 (Conv2D)               (None, 26, 26, 32)   320         conv2d_7_input[0][0]             \n",
            "__________________________________________________________________________________________________\n",
            "conv2d_9 (Conv2D)               (None, 26, 26, 32)   320         conv2d_9_input[0][0]             \n",
            "__________________________________________________________________________________________________\n",
            "conv2d_4 (Conv2D)               (None, 24, 24, 8)    2312        conv2d_3[0][0]                   \n",
            "__________________________________________________________________________________________________\n",
            "conv2d_6 (Conv2D)               (None, 24, 24, 8)    2312        conv2d_5[0][0]                   \n",
            "__________________________________________________________________________________________________\n",
            "conv2d_8 (Conv2D)               (None, 24, 24, 8)    2312        conv2d_7[0][0]                   \n",
            "__________________________________________________________________________________________________\n",
            "conv2d_10 (Conv2D)              (None, 24, 24, 8)    2312        conv2d_9[0][0]                   \n",
            "__________________________________________________________________________________________________\n",
            "max_pooling2d_2 (MaxPooling2D)  (None, 12, 12, 8)    0           conv2d_4[0][0]                   \n",
            "__________________________________________________________________________________________________\n",
            "max_pooling2d_3 (MaxPooling2D)  (None, 12, 12, 8)    0           conv2d_6[0][0]                   \n",
            "__________________________________________________________________________________________________\n",
            "max_pooling2d_4 (MaxPooling2D)  (None, 12, 12, 8)    0           conv2d_8[0][0]                   \n",
            "__________________________________________________________________________________________________\n",
            "max_pooling2d_5 (MaxPooling2D)  (None, 12, 12, 8)    0           conv2d_10[0][0]                  \n",
            "__________________________________________________________________________________________________\n",
            "dropout_3 (Dropout)             (None, 12, 12, 8)    0           max_pooling2d_2[0][0]            \n",
            "__________________________________________________________________________________________________\n",
            "dropout_5 (Dropout)             (None, 12, 12, 8)    0           max_pooling2d_3[0][0]            \n",
            "__________________________________________________________________________________________________\n",
            "dropout_7 (Dropout)             (None, 12, 12, 8)    0           max_pooling2d_4[0][0]            \n",
            "__________________________________________________________________________________________________\n",
            "dropout_9 (Dropout)             (None, 12, 12, 8)    0           max_pooling2d_5[0][0]            \n",
            "__________________________________________________________________________________________________\n",
            "flatten_2 (Flatten)             (None, 1152)         0           dropout_3[0][0]                  \n",
            "__________________________________________________________________________________________________\n",
            "flatten_3 (Flatten)             (None, 1152)         0           dropout_5[0][0]                  \n",
            "__________________________________________________________________________________________________\n",
            "flatten_4 (Flatten)             (None, 1152)         0           dropout_7[0][0]                  \n",
            "__________________________________________________________________________________________________\n",
            "flatten_5 (Flatten)             (None, 1152)         0           dropout_9[0][0]                  \n",
            "__________________________________________________________________________________________________\n",
            "dense_3 (Dense)                 (None, 16)           18448       flatten_2[0][0]                  \n",
            "__________________________________________________________________________________________________\n",
            "dense_5 (Dense)                 (None, 16)           18448       flatten_3[0][0]                  \n",
            "__________________________________________________________________________________________________\n",
            "dense_7 (Dense)                 (None, 16)           18448       flatten_4[0][0]                  \n",
            "__________________________________________________________________________________________________\n",
            "dense_9 (Dense)                 (None, 16)           18448       flatten_5[0][0]                  \n",
            "__________________________________________________________________________________________________\n",
            "dropout_4 (Dropout)             (None, 16)           0           dense_3[0][0]                    \n",
            "__________________________________________________________________________________________________\n",
            "dropout_6 (Dropout)             (None, 16)           0           dense_5[0][0]                    \n",
            "__________________________________________________________________________________________________\n",
            "dropout_8 (Dropout)             (None, 16)           0           dense_7[0][0]                    \n",
            "__________________________________________________________________________________________________\n",
            "dropout_10 (Dropout)            (None, 16)           0           dense_9[0][0]                    \n",
            "__________________________________________________________________________________________________\n",
            "dense_4 (Dense)                 (None, 64)           1088        dropout_4[0][0]                  \n",
            "__________________________________________________________________________________________________\n",
            "dense_6 (Dense)                 (None, 64)           1088        dropout_6[0][0]                  \n",
            "__________________________________________________________________________________________________\n",
            "dense_8 (Dense)                 (None, 64)           1088        dropout_8[0][0]                  \n",
            "__________________________________________________________________________________________________\n",
            "dense_10 (Dense)                (None, 64)           1088        dropout_10[0][0]                 \n",
            "__________________________________________________________________________________________________\n",
            "concatenate_1 (Concatenate)     (None, 256)          0           dense_4[0][0]                    \n",
            "                                                                 dense_6[0][0]                    \n",
            "                                                                 dense_8[0][0]                    \n",
            "                                                                 dense_10[0][0]                   \n",
            "__________________________________________________________________________________________________\n",
            "dropout_11 (Dropout)            (None, 256)          0           concatenate_1[0][0]              \n",
            "__________________________________________________________________________________________________\n",
            "dense_11 (Dense)                (None, 10)           2570        dropout_11[0][0]                 \n",
            "__________________________________________________________________________________________________\n",
            "activation_2 (Activation)       (None, 10)           0           dense_11[0][0]                   \n",
            "==================================================================================================\n",
            "Total params: 91,242\n",
            "Trainable params: 91,242\n",
            "Non-trainable params: 0\n",
            "__________________________________________________________________________________________________\n"
          ],
          "name": "stdout"
        }
      ]
    },
    {
      "cell_type": "code",
      "metadata": {
        "id": "5U3Sgb43bSiz",
        "colab_type": "code",
        "colab": {}
      },
      "source": [
        "#Extracting classification weights from the teacher network\n",
        "my_weights=teacher.get_layer('dense_2').get_weights()"
      ],
      "execution_count": 0,
      "outputs": []
    },
    {
      "cell_type": "code",
      "metadata": {
        "id": "1UeKLlDCbTWB",
        "colab_type": "code",
        "colab": {}
      },
      "source": [
        "#assigning the extracted weights as a starting point to the combined student network\n",
        "multi_model.get_layer('dense_11').set_weights(my_weights)"
      ],
      "execution_count": 0,
      "outputs": []
    },
    {
      "cell_type": "code",
      "metadata": {
        "id": "S-F5ZnCfz-dt",
        "colab_type": "code",
        "colab": {}
      },
      "source": [
        "#for 4 students freeze till layer 36 as we only need to optimize weights in the newly added layers\n",
        "for l in multi_model.layers[:36]:\n",
        "  l.trainable=False"
      ],
      "execution_count": 0,
      "outputs": []
    },
    {
      "cell_type": "code",
      "metadata": {
        "id": "ooI4oQjZz-9N",
        "colab_type": "code",
        "colab": {}
      },
      "source": [
        "multi_model.compile(loss='categorical_crossentropy',\n",
        "              optimizer='adadelta',\n",
        "              metrics=['accuracy'])"
      ],
      "execution_count": 0,
      "outputs": []
    },
    {
      "cell_type": "code",
      "metadata": {
        "id": "RJC8WQbbz_XA",
        "colab_type": "code",
        "outputId": "9dc21008-6ad8-4a83-fad7-2e0cd77a58c1",
        "colab": {
          "base_uri": "https://localhost:8080/",
          "height": 1000
        }
      },
      "source": [
        "multi_model.summary()"
      ],
      "execution_count": 30,
      "outputs": [
        {
          "output_type": "stream",
          "text": [
            "Model: \"model_2\"\n",
            "__________________________________________________________________________________________________\n",
            "Layer (type)                    Output Shape         Param #     Connected to                     \n",
            "==================================================================================================\n",
            "conv2d_3_input (InputLayer)     (None, 28, 28, 1)    0                                            \n",
            "__________________________________________________________________________________________________\n",
            "conv2d_5_input (InputLayer)     (None, 28, 28, 1)    0                                            \n",
            "__________________________________________________________________________________________________\n",
            "conv2d_7_input (InputLayer)     (None, 28, 28, 1)    0                                            \n",
            "__________________________________________________________________________________________________\n",
            "conv2d_9_input (InputLayer)     (None, 28, 28, 1)    0                                            \n",
            "__________________________________________________________________________________________________\n",
            "conv2d_3 (Conv2D)               (None, 26, 26, 32)   320         conv2d_3_input[0][0]             \n",
            "__________________________________________________________________________________________________\n",
            "conv2d_5 (Conv2D)               (None, 26, 26, 32)   320         conv2d_5_input[0][0]             \n",
            "__________________________________________________________________________________________________\n",
            "conv2d_7 (Conv2D)               (None, 26, 26, 32)   320         conv2d_7_input[0][0]             \n",
            "__________________________________________________________________________________________________\n",
            "conv2d_9 (Conv2D)               (None, 26, 26, 32)   320         conv2d_9_input[0][0]             \n",
            "__________________________________________________________________________________________________\n",
            "conv2d_4 (Conv2D)               (None, 24, 24, 8)    2312        conv2d_3[0][0]                   \n",
            "__________________________________________________________________________________________________\n",
            "conv2d_6 (Conv2D)               (None, 24, 24, 8)    2312        conv2d_5[0][0]                   \n",
            "__________________________________________________________________________________________________\n",
            "conv2d_8 (Conv2D)               (None, 24, 24, 8)    2312        conv2d_7[0][0]                   \n",
            "__________________________________________________________________________________________________\n",
            "conv2d_10 (Conv2D)              (None, 24, 24, 8)    2312        conv2d_9[0][0]                   \n",
            "__________________________________________________________________________________________________\n",
            "max_pooling2d_2 (MaxPooling2D)  (None, 12, 12, 8)    0           conv2d_4[0][0]                   \n",
            "__________________________________________________________________________________________________\n",
            "max_pooling2d_3 (MaxPooling2D)  (None, 12, 12, 8)    0           conv2d_6[0][0]                   \n",
            "__________________________________________________________________________________________________\n",
            "max_pooling2d_4 (MaxPooling2D)  (None, 12, 12, 8)    0           conv2d_8[0][0]                   \n",
            "__________________________________________________________________________________________________\n",
            "max_pooling2d_5 (MaxPooling2D)  (None, 12, 12, 8)    0           conv2d_10[0][0]                  \n",
            "__________________________________________________________________________________________________\n",
            "dropout_3 (Dropout)             (None, 12, 12, 8)    0           max_pooling2d_2[0][0]            \n",
            "__________________________________________________________________________________________________\n",
            "dropout_5 (Dropout)             (None, 12, 12, 8)    0           max_pooling2d_3[0][0]            \n",
            "__________________________________________________________________________________________________\n",
            "dropout_7 (Dropout)             (None, 12, 12, 8)    0           max_pooling2d_4[0][0]            \n",
            "__________________________________________________________________________________________________\n",
            "dropout_9 (Dropout)             (None, 12, 12, 8)    0           max_pooling2d_5[0][0]            \n",
            "__________________________________________________________________________________________________\n",
            "flatten_2 (Flatten)             (None, 1152)         0           dropout_3[0][0]                  \n",
            "__________________________________________________________________________________________________\n",
            "flatten_3 (Flatten)             (None, 1152)         0           dropout_5[0][0]                  \n",
            "__________________________________________________________________________________________________\n",
            "flatten_4 (Flatten)             (None, 1152)         0           dropout_7[0][0]                  \n",
            "__________________________________________________________________________________________________\n",
            "flatten_5 (Flatten)             (None, 1152)         0           dropout_9[0][0]                  \n",
            "__________________________________________________________________________________________________\n",
            "dense_3 (Dense)                 (None, 16)           18448       flatten_2[0][0]                  \n",
            "__________________________________________________________________________________________________\n",
            "dense_5 (Dense)                 (None, 16)           18448       flatten_3[0][0]                  \n",
            "__________________________________________________________________________________________________\n",
            "dense_7 (Dense)                 (None, 16)           18448       flatten_4[0][0]                  \n",
            "__________________________________________________________________________________________________\n",
            "dense_9 (Dense)                 (None, 16)           18448       flatten_5[0][0]                  \n",
            "__________________________________________________________________________________________________\n",
            "dropout_4 (Dropout)             (None, 16)           0           dense_3[0][0]                    \n",
            "__________________________________________________________________________________________________\n",
            "dropout_6 (Dropout)             (None, 16)           0           dense_5[0][0]                    \n",
            "__________________________________________________________________________________________________\n",
            "dropout_8 (Dropout)             (None, 16)           0           dense_7[0][0]                    \n",
            "__________________________________________________________________________________________________\n",
            "dropout_10 (Dropout)            (None, 16)           0           dense_9[0][0]                    \n",
            "__________________________________________________________________________________________________\n",
            "dense_4 (Dense)                 (None, 64)           1088        dropout_4[0][0]                  \n",
            "__________________________________________________________________________________________________\n",
            "dense_6 (Dense)                 (None, 64)           1088        dropout_6[0][0]                  \n",
            "__________________________________________________________________________________________________\n",
            "dense_8 (Dense)                 (None, 64)           1088        dropout_8[0][0]                  \n",
            "__________________________________________________________________________________________________\n",
            "dense_10 (Dense)                (None, 64)           1088        dropout_10[0][0]                 \n",
            "__________________________________________________________________________________________________\n",
            "concatenate_1 (Concatenate)     (None, 256)          0           dense_4[0][0]                    \n",
            "                                                                 dense_6[0][0]                    \n",
            "                                                                 dense_8[0][0]                    \n",
            "                                                                 dense_10[0][0]                   \n",
            "__________________________________________________________________________________________________\n",
            "dropout_11 (Dropout)            (None, 256)          0           concatenate_1[0][0]              \n",
            "__________________________________________________________________________________________________\n",
            "dense_11 (Dense)                (None, 10)           2570        dropout_11[0][0]                 \n",
            "__________________________________________________________________________________________________\n",
            "activation_2 (Activation)       (None, 10)           0           dense_11[0][0]                   \n",
            "==================================================================================================\n",
            "Total params: 91,242\n",
            "Trainable params: 2,570\n",
            "Non-trainable params: 88,672\n",
            "__________________________________________________________________________________________________\n"
          ],
          "name": "stdout"
        }
      ]
    },
    {
      "cell_type": "code",
      "metadata": {
        "id": "itXpISU8z_vR",
        "colab_type": "code",
        "outputId": "c9ed8f4c-7b0a-404a-9199-f46e6d8d8192",
        "colab": {
          "base_uri": "https://localhost:8080/",
          "height": 410
        }
      },
      "source": [
        "# Train the combined model for 4 students \n",
        "epochs = 10\n",
        "batch_size = 256\n",
        "mm_history=multi_model.fit([X_train,X_train,X_train,X_train], Y_train,\n",
        "          batch_size=batch_size,\n",
        "          epochs=epochs,\n",
        "          verbose=1,\n",
        "          validation_data=([X_val,X_val,X_val,X_val], Y_val))"
      ],
      "execution_count": 31,
      "outputs": [
        {
          "output_type": "stream",
          "text": [
            "Train on 48000 samples, validate on 12000 samples\n",
            "Epoch 1/10\n",
            "48000/48000 [==============================] - 4s 88us/step - loss: 0.5725 - accuracy: 0.7797 - val_loss: 0.3930 - val_accuracy: 0.8530\n",
            "Epoch 2/10\n",
            "48000/48000 [==============================] - 4s 80us/step - loss: 0.5439 - accuracy: 0.7906 - val_loss: 0.3896 - val_accuracy: 0.8506\n",
            "Epoch 3/10\n",
            "48000/48000 [==============================] - 4s 79us/step - loss: 0.5275 - accuracy: 0.7976 - val_loss: 0.3889 - val_accuracy: 0.8522\n",
            "Epoch 4/10\n",
            "48000/48000 [==============================] - 4s 80us/step - loss: 0.5262 - accuracy: 0.7986 - val_loss: 0.3852 - val_accuracy: 0.8557\n",
            "Epoch 5/10\n",
            "48000/48000 [==============================] - 4s 84us/step - loss: 0.5128 - accuracy: 0.8032 - val_loss: 0.3844 - val_accuracy: 0.8536\n",
            "Epoch 6/10\n",
            "48000/48000 [==============================] - 4s 82us/step - loss: 0.5133 - accuracy: 0.8034 - val_loss: 0.3822 - val_accuracy: 0.8582\n",
            "Epoch 7/10\n",
            "48000/48000 [==============================] - 4s 80us/step - loss: 0.5099 - accuracy: 0.8056 - val_loss: 0.3837 - val_accuracy: 0.8539\n",
            "Epoch 8/10\n",
            "48000/48000 [==============================] - 4s 80us/step - loss: 0.5135 - accuracy: 0.8040 - val_loss: 0.3816 - val_accuracy: 0.8568\n",
            "Epoch 9/10\n",
            "48000/48000 [==============================] - 4s 80us/step - loss: 0.5136 - accuracy: 0.8041 - val_loss: 0.3845 - val_accuracy: 0.8543\n",
            "Epoch 10/10\n",
            "48000/48000 [==============================] - 4s 80us/step - loss: 0.5105 - accuracy: 0.8047 - val_loss: 0.3807 - val_accuracy: 0.8616\n"
          ],
          "name": "stdout"
        }
      ]
    },
    {
      "cell_type": "code",
      "metadata": {
        "id": "qaOtono67Xno",
        "colab_type": "code",
        "outputId": "f7d8453b-89ff-4c47-a869-e288399d8e82",
        "colab": {
          "base_uri": "https://localhost:8080/",
          "height": 70
        }
      },
      "source": [
        "#Checking the combined student model accuracy\n",
        "preds=multi_model.predict([X_test,X_test,X_test,X_test])\n",
        "numbers=[0,1,2,3,4,5,6,7,8,9]\n",
        "preds2=[]\n",
        "for p in preds:\n",
        "  preds2.append(numbers[np.argmax(p)])\n",
        "preds2=np.array(preds2)\n",
        "\n",
        "print (y_test)\n",
        "print (preds2)\n",
        "print (np.sum(y_test==preds2))"
      ],
      "execution_count": 32,
      "outputs": [
        {
          "output_type": "stream",
          "text": [
            "[9 2 1 ... 8 1 5]\n",
            "[9 2 1 ... 8 1 5]\n",
            "8547\n"
          ],
          "name": "stdout"
        }
      ]
    }
  ]
}
